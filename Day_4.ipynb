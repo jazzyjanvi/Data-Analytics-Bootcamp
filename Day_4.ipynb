{
 "cells": [
  {
   "cell_type": "code",
   "execution_count": 1,
   "id": "1f814190-91ae-45b2-b765-13309d2f5737",
   "metadata": {},
   "outputs": [
    {
     "name": "stdout",
     "output_type": "stream",
     "text": [
      "Invalid Number/can't found the factorial of negative number !!!\n"
     ]
    }
   ],
   "source": [
    "#Factorial\n",
    "def factorial(num):\n",
    "    fact=1\n",
    "    if num >= 0:\n",
    "        if num==1 or num==0:\n",
    "            return 1\n",
    "        else:\n",
    "            for i in range(1,num+1):\n",
    "                fact*=i\n",
    "        print(fact)\n",
    "    else:\n",
    "        print(\"Invalid Number/can't found the factorial of negative number !!!\")\n",
    "factorial(-1)"
   ]
  },
  {
   "cell_type": "code",
   "execution_count": 2,
   "id": "a6ec05f1-3d6f-466f-8373-db794c57deab",
   "metadata": {},
   "outputs": [
    {
     "name": "stdout",
     "output_type": "stream",
     "text": [
      "Simple Interest: 8.64\n"
     ]
    }
   ],
   "source": [
    "#Simple Interest \n",
    "def simpleInterest(p,r,t):\n",
    "    print(\"Simple Interest:\",(p*r*t)/100)\n",
    "simpleInterest(12,9,8)"
   ]
  },
  {
   "cell_type": "code",
   "execution_count": 7,
   "id": "615775e0-b82f-49c7-8433-c5edf4c70248",
   "metadata": {},
   "outputs": [
    {
     "name": "stdout",
     "output_type": "stream",
     "text": [
      "1275\n"
     ]
    }
   ],
   "source": [
    "def sumOfNaturalNumber(a, b):\n",
    "    sum = 0\n",
    "    for i in range(a, b + 1):\n",
    "        sum += i  #compound operator\n",
    "    print(sum)\n",
    "sumOfNaturalNumber(1, 50)"
   ]
  },
  {
   "cell_type": "code",
   "execution_count": 9,
   "id": "9add09ff-f8fb-4f81-a6bb-cbc0bc0a2b7d",
   "metadata": {},
   "outputs": [
    {
     "name": "stdout",
     "output_type": "stream",
     "text": [
      "1275\n"
     ]
    }
   ],
   "source": [
    "#formula of sum\n",
    "def sumOfNaturalNumber(num):\n",
    "    print(num*(num+1)//2)\n",
    "sumOfNaturalNumber(50)"
   ]
  },
  {
   "cell_type": "code",
   "execution_count": 10,
   "id": "87b260d4-4d54-48a4-8e95-ce8dbcf37c33",
   "metadata": {},
   "outputs": [
    {
     "name": "stdout",
     "output_type": "stream",
     "text": [
      "2 x 1 = 2\n",
      "2 x 2 = 4\n",
      "2 x 3 = 6\n",
      "2 x 4 = 8\n",
      "2 x 5 = 10\n",
      "2 x 6 = 12\n",
      "2 x 7 = 14\n",
      "2 x 8 = 16\n",
      "2 x 9 = 18\n",
      "2 x 10 = 20\n"
     ]
    }
   ],
   "source": [
    "#table of 2\n",
    "def tableOfTwo(num):\n",
    "    for i in range(1,11):\n",
    "        print(f\"{num} x {i} = {num*i}\")\n",
    "tableOfTwo(2)"
   ]
  },
  {
   "cell_type": "code",
   "execution_count": 11,
   "id": "4c8cfd28-4902-4c6a-a9df-7fbc47a551d4",
   "metadata": {},
   "outputs": [
    {
     "name": "stdout",
     "output_type": "stream",
     "text": [
      "625\n"
     ]
    }
   ],
   "source": [
    "#sum of odds\n",
    "def sumOfOddNaturalNumber(num):\n",
    "    sum = 0\n",
    "    for i in range(1,num+1):\n",
    "        if i%2!=0: \n",
    "            sum+=i # sum=sum+i compound operator \n",
    "    print(sum)\n",
    "sumOfOddNaturalNumber(50)"
   ]
  },
  {
   "cell_type": "code",
   "execution_count": 12,
   "id": "9ca4dc07-9877-4115-afdc-022b48c1df93",
   "metadata": {},
   "outputs": [
    {
     "data": {
      "text/plain": [
       "18"
      ]
     },
     "execution_count": 12,
     "metadata": {},
     "output_type": "execute_result"
    }
   ],
   "source": [
    "def sum(a=5,b=2): # defaulted parameter # parameter only contains variable\n",
    "    return a+b\n",
    "sum(12,6)"
   ]
  },
  {
   "cell_type": "code",
   "execution_count": 13,
   "id": "b3b076b3-dfee-492b-8fe7-e51bd076b2ee",
   "metadata": {},
   "outputs": [
    {
     "data": {
      "text/plain": [
       "18"
      ]
     },
     "execution_count": 13,
     "metadata": {},
     "output_type": "execute_result"
    }
   ],
   "source": [
    "def sum(a=5,b=2): # defaulted parameter # parameter only contains variable\n",
    "    return a+b\n",
    "sum(12,6)"
   ]
  },
  {
   "cell_type": "code",
   "execution_count": 14,
   "id": "1a25d2f4-68f8-4e3f-a80e-8e9305b5183f",
   "metadata": {},
   "outputs": [
    {
     "data": {
      "text/plain": [
       "101"
      ]
     },
     "execution_count": 14,
     "metadata": {},
     "output_type": "execute_result"
    }
   ],
   "source": [
    "x = 34\n",
    "y = 67\n",
    "sum(x,y) # argument contain both value and varible"
   ]
  },
  {
   "cell_type": "code",
   "execution_count": 15,
   "id": "100872f6-ffd0-4208-bff8-cb9fd496e6a7",
   "metadata": {},
   "outputs": [
    {
     "data": {
      "text/plain": [
       "32"
      ]
     },
     "execution_count": 15,
     "metadata": {},
     "output_type": "execute_result"
    }
   ],
   "source": [
    "sum(30)"
   ]
  },
  {
   "cell_type": "code",
   "execution_count": 16,
   "id": "a1d926fe-1a2d-4fde-8ef2-91e136b45072",
   "metadata": {},
   "outputs": [
    {
     "data": {
      "text/plain": [
       "7"
      ]
     },
     "execution_count": 16,
     "metadata": {},
     "output_type": "execute_result"
    }
   ],
   "source": [
    "sum()"
   ]
  },
  {
   "cell_type": "code",
   "execution_count": 17,
   "id": "621677c8-4660-4ce6-8fb7-ebd432857eea",
   "metadata": {},
   "outputs": [
    {
     "data": {
      "text/plain": [
       "21"
      ]
     },
     "execution_count": 17,
     "metadata": {},
     "output_type": "execute_result"
    }
   ],
   "source": [
    "#keyword argument\n",
    "def show(a,b):\n",
    "    return a+b\n",
    "show(a=45,b=12)\n",
    "show(9,b=12)"
   ]
  },
  {
   "cell_type": "code",
   "execution_count": 18,
   "id": "2023247f-aecd-40fb-8bce-7b88bfa48f98",
   "metadata": {},
   "outputs": [
    {
     "data": {
      "text/plain": [
       "5"
      ]
     },
     "execution_count": 18,
     "metadata": {},
     "output_type": "execute_result"
    }
   ],
   "source": [
    "def add(a,b):\n",
    "    c = a + b\n",
    "    return c\n",
    "add(2,3)"
   ]
  },
  {
   "cell_type": "code",
   "execution_count": 19,
   "id": "0955c14f-b2c9-455b-8749-80199bcc0e02",
   "metadata": {},
   "outputs": [
    {
     "name": "stdout",
     "output_type": "stream",
     "text": [
      "4\n"
     ]
    }
   ],
   "source": [
    "#using return in function \n",
    "def add(a,b):\n",
    "    c = a + b\n",
    "    return c\n",
    "add(2,3)\n",
    "x = add(1,3)\n",
    "print(x) # reusing c by return in print "
   ]
  },
  {
   "cell_type": "code",
   "execution_count": 20,
   "id": "310eb0b6-05b5-4cc1-a094-110cc437ab3b",
   "metadata": {},
   "outputs": [
    {
     "data": {
      "text/plain": [
       "5"
      ]
     },
     "execution_count": 20,
     "metadata": {},
     "output_type": "execute_result"
    }
   ],
   "source": [
    "def add(a,b):\n",
    "    return a + b\n",
    "add(2,3)"
   ]
  },
  {
   "cell_type": "code",
   "execution_count": 21,
   "id": "96789b3c-86ed-4ee9-af9f-e19b8d379611",
   "metadata": {},
   "outputs": [
    {
     "name": "stdout",
     "output_type": "stream",
     "text": [
      "5\n"
     ]
    }
   ],
   "source": [
    "def add(a,b):\n",
    "    c = a + b\n",
    "    print(c)\n",
    "add(2,3)"
   ]
  },
  {
   "cell_type": "code",
   "execution_count": 22,
   "id": "912cc9ca-3850-4ad3-a370-d62388116394",
   "metadata": {},
   "outputs": [
    {
     "data": {
      "text/plain": [
       "20"
      ]
     },
     "execution_count": 22,
     "metadata": {},
     "output_type": "execute_result"
    }
   ],
   "source": [
    "#lambda 1 line function \n",
    "sum = lambda n1,n2:n1+n2\n",
    "sum(12,8)"
   ]
  },
  {
   "cell_type": "code",
   "execution_count": 23,
   "id": "650e0586-8529-4c85-9b80-23a3d71f27a0",
   "metadata": {},
   "outputs": [
    {
     "name": "stdout",
     "output_type": "stream",
     "text": [
      "30\n"
     ]
    }
   ],
   "source": [
    "add(10,20)"
   ]
  },
  {
   "cell_type": "code",
   "execution_count": 24,
   "id": "1eca9e4b-8e68-41d9-aac1-5907d1d6d42a",
   "metadata": {},
   "outputs": [
    {
     "name": "stdout",
     "output_type": "stream",
     "text": [
      "57\n",
      "5\n"
     ]
    }
   ],
   "source": [
    "def add(a,b):\n",
    "    print(a+b)\n",
    "    def addOne(c,d):\n",
    "        x = c + d\n",
    "        print(x)\n",
    "    addOne(2,3)\n",
    "add(12,45)"
   ]
  },
  {
   "cell_type": "code",
   "execution_count": 25,
   "id": "43f6d9bc-9b21-428c-9e58-ab4a5bd9bd5d",
   "metadata": {},
   "outputs": [
    {
     "name": "stdout",
     "output_type": "stream",
     "text": [
      "Divide by zero !!!\n",
      "program ended !!!\n"
     ]
    }
   ],
   "source": [
    "try :\n",
    "    a = 10/0\n",
    "    print(a)\n",
    "except:\n",
    "    print(\"Divide by zero !!!\")\n",
    "finally:\n",
    "    print(\"program ended !!!\")"
   ]
  },
  {
   "cell_type": "code",
   "execution_count": 26,
   "id": "7df5ed4f-cb50-4266-b3e1-88ef7ae05c3b",
   "metadata": {},
   "outputs": [
    {
     "name": "stdout",
     "output_type": "stream",
     "text": [
      "120\n"
     ]
    }
   ],
   "source": [
    "#Factorial\n",
    "def factorial(num):\n",
    "    fact=1\n",
    "    if num >= 0:\n",
    "        if num==1 or num==0:\n",
    "            return 1\n",
    "        else:\n",
    "            return num*factorial(num-1) \n",
    "    else:\n",
    "        print(\"Invalid Number/can't found the factorial of negative number !!!\")\n",
    "print(factorial(5))"
   ]
  },
  {
   "cell_type": "code",
   "execution_count": 27,
   "id": "092fd7dc-c99d-48f8-af32-454d4aacbfa7",
   "metadata": {},
   "outputs": [
    {
     "name": "stdout",
     "output_type": "stream",
     "text": [
      "dlroW olleH\n"
     ]
    }
   ],
   "source": [
    "def reverse(string):\n",
    "    print(string[::-1])\n",
    "reverse(\"Hello World\")"
   ]
  },
  {
   "cell_type": "code",
   "execution_count": 28,
   "id": "e2ed2332-d8b7-4e06-98fe-989c4f303361",
   "metadata": {},
   "outputs": [
    {
     "name": "stdout",
     "output_type": "stream",
     "text": [
      "dlroW olleH"
     ]
    }
   ],
   "source": [
    "def reverse(string):\n",
    "    i = len(string) - 1\n",
    "    while i >= 0:\n",
    "        print(string[i],end=\"\")\n",
    "        i -= 1\n",
    "reverse(\"Hello World\")"
   ]
  },
  {
   "cell_type": "code",
   "execution_count": 29,
   "id": "155637bc-c462-4e33-9a09-53866ddf56a9",
   "metadata": {},
   "outputs": [
    {
     "name": "stdout",
     "output_type": "stream",
     "text": [
      "palindrome\n"
     ]
    }
   ],
   "source": [
    "string = \"anna\"\n",
    "if string[::-1] == string:\n",
    "    print(\"palindrome\")\n",
    "else :\n",
    "    print(\"not a palindrome\")"
   ]
  },
  {
   "cell_type": "code",
   "execution_count": 30,
   "id": "eeffbde7-ef46-4ce9-8b86-894cfd7440ba",
   "metadata": {},
   "outputs": [
    {
     "name": "stdin",
     "output_type": "stream",
     "text": [
      "Enter a string: Janvi\n"
     ]
    },
    {
     "name": "stdout",
     "output_type": "stream",
     "text": [
      "not a palindrome\n"
     ]
    }
   ],
   "source": [
    "string = input(\"Enter a string:\")\n",
    "def palindrome(string):\n",
    "    is_palindrome = True\n",
    "    for i in range(len(string) // 2):\n",
    "        if string[i]!=string[-(i + 1)]:\n",
    "            is_palindrome = False\n",
    "            break\n",
    "\n",
    "    if is_palindrome:\n",
    "        print(\"palindrome\")\n",
    "    else:\n",
    "        print(\"not a palindrome\")\n",
    "palindrome(string)"
   ]
  },
  {
   "cell_type": "code",
   "execution_count": 31,
   "id": "6a58fe33-8db1-4ed4-b048-c0fefaff2647",
   "metadata": {},
   "outputs": [
    {
     "data": {
      "text/plain": [
       "25"
      ]
     },
     "execution_count": 31,
     "metadata": {},
     "output_type": "execute_result"
    }
   ],
   "source": [
    "def square(num):\n",
    "    return num**2\n",
    "square(5)"
   ]
  },
  {
   "cell_type": "code",
   "execution_count": 32,
   "id": "ce923c62-bd67-4da0-8094-14f701f8a896",
   "metadata": {},
   "outputs": [
    {
     "name": "stdout",
     "output_type": "stream",
     "text": [
      "4\n"
     ]
    }
   ],
   "source": [
    "# using return in function \n",
    "def add(a,b):\n",
    "    c = a + b\n",
    "    return c\n",
    "add(2,3)\n",
    "x = add(1,3)\n",
    "print(x) # reusing c by return in print "
   ]
  },
  {
   "cell_type": "code",
   "execution_count": 37,
   "id": "c3a7a8e6-7efc-4004-a052-c093e772db31",
   "metadata": {},
   "outputs": [
    {
     "name": "stdout",
     "output_type": "stream",
     "text": [
      "625\n"
     ]
    }
   ],
   "source": [
    "def sumOfNaturalNumber(num):\n",
    "    sum2 = 0\n",
    "    for i in range(1,num+1):\n",
    "        if i%2!=0: \n",
    "           sum2+=i # sum=sum+i compound operator \n",
    "    print(sum2)\n",
    "sumOfNaturalNumber(50)"
   ]
  },
  {
   "cell_type": "code",
   "execution_count": 38,
   "id": "da99bbfe-332e-4e0e-b480-a3475116472e",
   "metadata": {},
   "outputs": [
    {
     "data": {
      "text/plain": [
       "49.5"
      ]
     },
     "execution_count": 38,
     "metadata": {},
     "output_type": "execute_result"
    }
   ],
   "source": [
    "def averageOfTwo(a,b):\n",
    "    return (a+b)/2\n",
    "averageOfTwo(21,78)"
   ]
  },
  {
   "cell_type": "code",
   "execution_count": 39,
   "id": "fd88e87c-ef5a-4cd3-8537-b0812f2f35c4",
   "metadata": {},
   "outputs": [
    {
     "name": "stdin",
     "output_type": "stream",
     "text": [
      "Enter a number: 4\n"
     ]
    },
    {
     "name": "stdout",
     "output_type": "stream",
     "text": [
      "16\n"
     ]
    }
   ],
   "source": [
    "\n",
    "n1 = int(input(\"Enter a number:\"))\n",
    "num = lambda n1:n1**2\n",
    "print(num(n1))"
   ]
  },
  {
   "cell_type": "code",
   "execution_count": 40,
   "id": "fd7dd66c-c4c0-4931-838e-a210dd07cbab",
   "metadata": {},
   "outputs": [
    {
     "name": "stdin",
     "output_type": "stream",
     "text": [
      "Enter a string: janvi\n"
     ]
    },
    {
     "name": "stdout",
     "output_type": "stream",
     "text": [
      "2\n"
     ]
    }
   ],
   "source": [
    "string = input(\"Enter a string:\")\n",
    "def countVowel(string):\n",
    "    vowel = 0\n",
    "    for i in string:\n",
    "        if i in ['a','i','o','u','e','A','I','U','O','E']:\n",
    "            vowel+=1\n",
    "    print(vowel)\n",
    "countVowel(string)"
   ]
  },
  {
   "cell_type": "code",
   "execution_count": 41,
   "id": "fdd5ed24-7d54-4949-bd78-f3328700b218",
   "metadata": {},
   "outputs": [
    {
     "name": "stdin",
     "output_type": "stream",
     "text": [
      "Enter the number of terms:  5\n"
     ]
    },
    {
     "name": "stdout",
     "output_type": "stream",
     "text": [
      "Fibonacci series:\n",
      "0 1 1 2 3 "
     ]
    }
   ],
   "source": [
    "n = int(input(\"Enter the number of terms: \"))\n",
    "def Fibonacci(num):\n",
    "    a, b = 0, 1\n",
    "    print(\"Fibonacci series:\")\n",
    "    for i in range(n):\n",
    "        print(a, end=\" \")\n",
    "        a, b = b, a + b\n",
    "Fibonacci(n)"
   ]
  },
  {
   "cell_type": "code",
   "execution_count": null,
   "id": "1fede190-b6d7-48c7-83ba-0a2d54eb1d8d",
   "metadata": {},
   "outputs": [],
   "source": []
  }
 ],
 "metadata": {
  "kernelspec": {
   "display_name": "Python [conda env:base]",
   "language": "python",
   "name": "conda-base-py"
  },
  "language_info": {
   "codemirror_mode": {
    "name": "ipython",
    "version": 3
   },
   "file_extension": ".py",
   "mimetype": "text/x-python",
   "name": "python",
   "nbconvert_exporter": "python",
   "pygments_lexer": "ipython3",
   "version": "3.13.5"
  }
 },
 "nbformat": 4,
 "nbformat_minor": 5
}
