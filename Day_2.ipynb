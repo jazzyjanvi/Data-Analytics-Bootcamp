{
 "cells": [
  {
   "cell_type": "code",
   "execution_count": 1,
   "id": "190cf5d9-ba8e-4411-bf5b-a68cd5e9dceb",
   "metadata": {},
   "outputs": [
    {
     "name": "stdout",
     "output_type": "stream",
     "text": [
      "<class 'float'>\n"
     ]
    }
   ],
   "source": [
    "#Explicit Type conversion\n",
    "x=10\n",
    "y=float(x)\n",
    "print(type(y))"
   ]
  },
  {
   "cell_type": "code",
   "execution_count": 2,
   "id": "2250546d-45bc-4866-aa89-4b4195831ed6",
   "metadata": {},
   "outputs": [
    {
     "name": "stdout",
     "output_type": "stream",
     "text": [
      "<class 'float'>\n"
     ]
    }
   ],
   "source": [
    "#Implicit Type Conversion\n",
    "x=10\n",
    "y=10.5\n",
    "print(type(x+y))"
   ]
  },
  {
   "cell_type": "code",
   "execution_count": 3,
   "id": "12cd035a-0691-4417-9793-6f95a48ca650",
   "metadata": {},
   "outputs": [
    {
     "name": "stdout",
     "output_type": "stream",
     "text": [
      "false\n"
     ]
    }
   ],
   "source": [
    "#control statements\n",
    "x=0\n",
    "if x:\n",
    "    print('true')\n",
    "else:\n",
    "    print('false')"
   ]
  },
  {
   "cell_type": "code",
   "execution_count": 4,
   "id": "383bac64-1f65-4d14-ba76-d6f17151b554",
   "metadata": {},
   "outputs": [
    {
     "name": "stdin",
     "output_type": "stream",
     "text": [
      "Age 54\n"
     ]
    },
    {
     "name": "stdout",
     "output_type": "stream",
     "text": [
      "Eligible to vote\n"
     ]
    }
   ],
   "source": [
    "#practice question - 1\n",
    "age=int(input(\"Age\"))\n",
    "if age<18:\n",
    "        print(\"Not eligible\")\n",
    "else:\n",
    "        print(\"Eligible to vote\")"
   ]
  },
  {
   "cell_type": "code",
   "execution_count": 5,
   "id": "b77f390d-b898-49e9-8608-97f21cd9f740",
   "metadata": {},
   "outputs": [
    {
     "name": "stdin",
     "output_type": "stream",
     "text": [
      "Number 5\n"
     ]
    },
    {
     "name": "stdout",
     "output_type": "stream",
     "text": [
      "Odd number\n"
     ]
    }
   ],
   "source": [
    "#practice question - 2\n",
    "num=int(input(\"Number\"))\n",
    "check=num%2\n",
    "if check==0:\n",
    "    print(\"Even number\")\n",
    "else:\n",
    "    print(\"Odd number\")"
   ]
  },
  {
   "cell_type": "code",
   "execution_count": 6,
   "id": "db62b4af-1fb3-4d97-80d2-aa589e29a620",
   "metadata": {},
   "outputs": [
    {
     "name": "stdin",
     "output_type": "stream",
     "text": [
      "Entert marks 54\n"
     ]
    },
    {
     "name": "stdout",
     "output_type": "stream",
     "text": [
      "Pass\n"
     ]
    }
   ],
   "source": [
    "#practice question - 3\n",
    "marks=int(input(\"Entert marks\"))\n",
    "if marks>=40:\n",
    "    print(\"Pass\")\n",
    "else:\n",
    "    print(\"Fail\")"
   ]
  },
  {
   "cell_type": "code",
   "execution_count": 7,
   "id": "63bc81e7-2a89-4a43-9356-5c8302416372",
   "metadata": {},
   "outputs": [
    {
     "name": "stdin",
     "output_type": "stream",
     "text": [
      "Enter name Janvi\n"
     ]
    },
    {
     "name": "stdout",
     "output_type": "stream",
     "text": [
      "Length less than 5\n"
     ]
    }
   ],
   "source": [
    "#practice question - 4\n",
    "name=input(\"Enter name\")\n",
    "if len(name)>5 :\n",
    "    print(\"Length is greater than 5\")\n",
    "else:\n",
    "    print(\"Length less than 5\")"
   ]
  },
  {
   "cell_type": "code",
   "execution_count": 8,
   "id": "e7cac64b-1d3a-4985-bed7-51c31ddd4dfd",
   "metadata": {},
   "outputs": [
    {
     "name": "stdin",
     "output_type": "stream",
     "text": [
      "Enter number -5\n"
     ]
    },
    {
     "name": "stdout",
     "output_type": "stream",
     "text": [
      "Negative number\n"
     ]
    }
   ],
   "source": [
    "#practice question - 5\n",
    "x=int(input(\"Enter number\"))\n",
    "if x>0:\n",
    "    print(\"Positive number\")\n",
    "else:\n",
    "    print(\"Negative number\")"
   ]
  },
  {
   "cell_type": "code",
   "execution_count": 10,
   "id": "62eaedb9-c2d6-43b0-982a-506125adc5db",
   "metadata": {},
   "outputs": [
    {
     "name": "stdin",
     "output_type": "stream",
     "text": [
      "Enter month January\n"
     ]
    },
    {
     "name": "stdout",
     "output_type": "stream",
     "text": [
      "Winter\n"
     ]
    }
   ],
   "source": [
    "#nested elif\n",
    "month=(input(\"Enter month\"))\n",
    "if month=='January' or month=='November' or month=='December':\n",
    "       print(\"Winter\")\n",
    "elif month=='February' or month=='March':\n",
    "       print(\"Spring\")\n",
    "elif month=='April' or month=='May' or month=='June' or month=='July':\n",
    "    print(\"Summer\")\n",
    "elif month=='August' or month=='September':\n",
    "    print(\"Monsoon\")\n",
    "elif month=='October':\n",
    "    print(\"Autumn\")\n",
    "else:\n",
    "    print(\"Invalid month\")"
   ]
  },
  {
   "cell_type": "code",
   "execution_count": 11,
   "id": "9cfc28d7-336c-4af2-a141-c4cc82df0f03",
   "metadata": {},
   "outputs": [
    {
     "name": "stdin",
     "output_type": "stream",
     "text": [
      "Enter number 5\n"
     ]
    },
    {
     "name": "stdout",
     "output_type": "stream",
     "text": [
      "Positive number\n"
     ]
    }
   ],
   "source": [
    "#assignment\n",
    "#positive negative or zero \n",
    "x=int(input(\"Enter number\"))\n",
    "if x>0:\n",
    "    print(\"Positive number\")\n",
    "elif x==0:\n",
    "    print(\"Zero\")\n",
    "else:\n",
    "    print(\"Negative number\")"
   ]
  },
  {
   "cell_type": "code",
   "execution_count": 12,
   "id": "f1750c98-590f-443e-a03a-186ad75a0615",
   "metadata": {},
   "outputs": [
    {
     "name": "stdin",
     "output_type": "stream",
     "text": [
      "Age 45\n"
     ]
    },
    {
     "name": "stdout",
     "output_type": "stream",
     "text": [
      "Adult\n"
     ]
    }
   ],
   "source": [
    "#assignment\n",
    "age=int(input(\"Age\"))\n",
    "if age<13:\n",
    "    print(\"Child\")\n",
    "elif age<18:\n",
    "    print(\"Teen\")\n",
    "else:\n",
    "    print(\"Adult\")"
   ]
  },
  {
   "cell_type": "code",
   "execution_count": 13,
   "id": "50733668-b4b8-4b56-9ff4-7da3b96e8e52",
   "metadata": {},
   "outputs": [
    {
     "name": "stdin",
     "output_type": "stream",
     "text": [
      "Number 78\n"
     ]
    },
    {
     "name": "stdout",
     "output_type": "stream",
     "text": [
      "It is Even number and greater than 10\n"
     ]
    }
   ],
   "source": [
    "#assignment\n",
    "num=int(input(\"Number\"))\n",
    "check=num%2\n",
    "if check==0 and num>10:\n",
    "    print(\"It is Even number and greater than 10\")\n",
    "elif check==0:\n",
    "    print(\"It is Even number\")\n",
    "else:\n",
    "    print(\"Odd number\")"
   ]
  },
  {
   "cell_type": "code",
   "execution_count": 14,
   "id": "ce9e88d9-9705-4764-b840-f085be87262e",
   "metadata": {},
   "outputs": [
    {
     "name": "stdin",
     "output_type": "stream",
     "text": [
      "Entert marks 78\n"
     ]
    },
    {
     "name": "stdout",
     "output_type": "stream",
     "text": [
      "B\n"
     ]
    }
   ],
   "source": [
    "#assignment\n",
    "marks=int(input(\"Entert marks\"))\n",
    "if marks>90:\n",
    "    print(\"A\")\n",
    "elif marks>75:\n",
    "    print(\"B\")\n",
    "elif marks>60:\n",
    "    print(\"C\")\n",
    "else:\n",
    "    print(\"Fail\")"
   ]
  },
  {
   "cell_type": "code",
   "execution_count": 16,
   "id": "8354c720-a6d5-4a7d-8055-e67f1bc67412",
   "metadata": {},
   "outputs": [
    {
     "name": "stdin",
     "output_type": "stream",
     "text": [
      "Enter number 78\n",
      "Enter number 36\n",
      "Enter number 89\n"
     ]
    },
    {
     "name": "stdout",
     "output_type": "stream",
     "text": [
      "89 (c) is the greatest integer\n"
     ]
    }
   ],
   "source": [
    "#assignment\n",
    "a=int(input(\"Enter number\"))\n",
    "b=int(input(\"Enter number\"))\n",
    "c=int(input(\"Enter number\"))\n",
    "if a>b and a>c:\n",
    "    print(a, \"(a) is the greatest integer\")\n",
    "if b>a and b>c:\n",
    "    print(b, \"(b) is the greatest integer\")\n",
    "if c>a and c>b:\n",
    "    print(c, \"(c) is the greatest integer\")"
   ]
  },
  {
   "cell_type": "code",
   "execution_count": 17,
   "id": "14185737-e205-46ff-b43b-2b36fa75c4ea",
   "metadata": {},
   "outputs": [
    {
     "name": "stdout",
     "output_type": "stream",
     "text": [
      "2\n",
      "4\n",
      "6\n",
      "8\n",
      "10\n",
      "12\n",
      "14\n",
      "16\n",
      "18\n",
      "20\n"
     ]
    }
   ],
   "source": [
    "#while loop\n",
    "a=2\n",
    "i=1\n",
    "while i<=10:\n",
    "    print(a*i)\n",
    "    i+=1"
   ]
  },
  {
   "cell_type": "code",
   "execution_count": 18,
   "id": "3fc160f9-9aa3-4d04-8dfe-c2384e35be6a",
   "metadata": {},
   "outputs": [
    {
     "name": "stdin",
     "output_type": "stream",
     "text": [
      "Product name lip gloss\n",
      "Quantity 2\n",
      "Price 349\n"
     ]
    },
    {
     "name": "stdout",
     "output_type": "stream",
     "text": [
      "The bill for  lip gloss : 698.0\n"
     ]
    }
   ],
   "source": [
    "#Bill Calculator\n",
    "Product=input(\"Product name\")\n",
    "Qty=int(input(\"Quantity\"))\n",
    "Price=float(input(\"Price\"))\n",
    "Bill=Qty*Price\n",
    "print(\"The bill for \" , Product , \":\" ,Bill)"
   ]
  },
  {
   "cell_type": "code",
   "execution_count": 19,
   "id": "34ca6460-3201-43be-b1cf-e427ddba662f",
   "metadata": {},
   "outputs": [
    {
     "name": "stdin",
     "output_type": "stream",
     "text": [
      "Enter type of vehicle Truck\n"
     ]
    },
    {
     "name": "stdout",
     "output_type": "stream",
     "text": [
      "Expires 30 years after registeration\n"
     ]
    }
   ],
   "source": [
    "#Vehicle Expiry Checking\n",
    "v=input(\"Enter type of vehicle\")\n",
    "if v=='Car':\n",
    "    print(\"Expires 10 years after registeration\")\n",
    "elif v=='Bike':\n",
    "    print(\"Expires 20 years after registeration\")\n",
    "elif v=='Scooty':\n",
    "    print(\"Expires 20 years after registeration\")\n",
    "elif v=='Truck':\n",
    "    print(\"Expires 30 years after registeration\")\n",
    "else:\n",
    "    print(\"Vehicle type not in list\")"
   ]
  },
  {
   "cell_type": "code",
   "execution_count": null,
   "id": "27ea741f-fd19-4c8c-a2ce-5afe8d7eb9eb",
   "metadata": {},
   "outputs": [],
   "source": []
  }
 ],
 "metadata": {
  "kernelspec": {
   "display_name": "Python [conda env:base]",
   "language": "python",
   "name": "conda-base-py"
  },
  "language_info": {
   "codemirror_mode": {
    "name": "ipython",
    "version": 3
   },
   "file_extension": ".py",
   "mimetype": "text/x-python",
   "name": "python",
   "nbconvert_exporter": "python",
   "pygments_lexer": "ipython3",
   "version": "3.13.5"
  }
 },
 "nbformat": 4,
 "nbformat_minor": 5
}
