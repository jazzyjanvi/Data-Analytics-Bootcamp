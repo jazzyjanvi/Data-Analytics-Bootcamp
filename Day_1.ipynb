{
 "cells": [
  {
   "cell_type": "code",
   "execution_count": 1,
   "id": "49de1f57-b8a2-486c-aa1c-1aa16c50e4a5",
   "metadata": {},
   "outputs": [
    {
     "name": "stdout",
     "output_type": "stream",
     "text": [
      "40\n"
     ]
    }
   ],
   "source": [
    "#Variable Assigement & Sum\n",
    "num1 = 15\n",
    "num2 = 25\n",
    "print(num1+num2)"
   ]
  },
  {
   "cell_type": "code",
   "execution_count": 2,
   "id": "ca2a5ed2-67dc-42a4-a03e-8d02e17985ba",
   "metadata": {},
   "outputs": [
    {
     "name": "stdout",
     "output_type": "stream",
     "text": [
      "32\n",
      "84\n"
     ]
    }
   ],
   "source": [
    "#Difference & Product\n",
    "num1 = 50\n",
    "num2 = 18\n",
    "num3 = 12\n",
    "num4 = 7\n",
    "print(num1-num2)\n",
    "print(num3*num4)"
   ]
  },
  {
   "cell_type": "code",
   "execution_count": 3,
   "id": "5cef5da6-aa11-48fc-b58a-012c9d5ce2cb",
   "metadata": {},
   "outputs": [
    {
     "name": "stdout",
     "output_type": "stream",
     "text": [
      "33.333333333333336\n",
      "1\n"
     ]
    }
   ],
   "source": [
    "#Division & Modulus\n",
    "num1 = 100\n",
    "num2 = 3\n",
    "print(100/3)\n",
    "print(100%3)"
   ]
  },
  {
   "cell_type": "code",
   "execution_count": 4,
   "id": "5bb4bd15-12ca-45dd-a879-52901a70bb85",
   "metadata": {},
   "outputs": [
    {
     "name": "stdout",
     "output_type": "stream",
     "text": [
      "True\n",
      "True\n",
      "True\n"
     ]
    }
   ],
   "source": [
    "#Boolean Expressions\n",
    "a = (5+3)>(10-4)\n",
    "b = (20/2) == 10\n",
    "c = (7<5) or (9!=8)\n",
    "print(a)\n",
    "print(b)\n",
    "print(c)"
   ]
  },
  {
   "cell_type": "code",
   "execution_count": 5,
   "id": "13dc9691-5e9e-47f0-b132-83dffa6d708c",
   "metadata": {},
   "outputs": [
    {
     "name": "stdout",
     "output_type": "stream",
     "text": [
      "45\n",
      "33.0\n"
     ]
    }
   ],
   "source": [
    "#Type Conversion\n",
    "num1 = 45.8\n",
    "num2 = 33\n",
    "print(int(num1))\n",
    "print(float(num2))"
   ]
  },
  {
   "cell_type": "code",
   "execution_count": 6,
   "id": "3f8f747a-93e4-4c36-88aa-e1ecd4aa5b9b",
   "metadata": {},
   "outputs": [
    {
     "name": "stdin",
     "output_type": "stream",
     "text": [
      "Enter the first number: 8\n",
      "Enter the Second number: 8\n",
      "Enter the thrid number: 8\n"
     ]
    },
    {
     "name": "stdout",
     "output_type": "stream",
     "text": [
      "18.666666666666668\n"
     ]
    }
   ],
   "source": [
    "#Average of Three Numbers\n",
    "a = int(input(\"Enter the first number:\"))\n",
    "b = int(input(\"Enter the Second number:\"))\n",
    "c = int(input(\"Enter the thrid number:\"))\n",
    "print(((a+b+c/3)))"
   ]
  },
  {
   "cell_type": "code",
   "execution_count": 7,
   "id": "8ab362e2-3ff6-47bd-9a49-e2033292a314",
   "metadata": {},
   "outputs": [
    {
     "name": "stdout",
     "output_type": "stream",
     "text": [
      "125\n"
     ]
    }
   ],
   "source": [
    "#Power Calculation\n",
    "print(5**3)"
   ]
  },
  {
   "cell_type": "code",
   "execution_count": 8,
   "id": "3527e8be-9b21-4e1f-b8ad-d5b5398ce518",
   "metadata": {},
   "outputs": [
    {
     "name": "stdin",
     "output_type": "stream",
     "text": [
      "Enter A Temperature in Fahrenheit to convert into celsius: 78\n"
     ]
    },
    {
     "name": "stdout",
     "output_type": "stream",
     "text": [
      "25.555555555555557\n"
     ]
    }
   ],
   "source": [
    "#Temperature Conversion \n",
    "f = float(input(\"Enter A Temperature in Fahrenheit to convert into celsius:\"))\n",
    "celsius = (f-32)*(5/9)\n",
    "print(celsius)"
   ]
  },
  {
   "cell_type": "code",
   "execution_count": 9,
   "id": "ab914b97-52e0-41c6-a44b-d71655763573",
   "metadata": {},
   "outputs": [
    {
     "name": "stdout",
     "output_type": "stream",
     "text": [
      "100.0\n"
     ]
    }
   ],
   "source": [
    "#Simple interest Calculation\n",
    "p = 1000\n",
    "r = 5\n",
    "t = 2\n",
    "si = (p*r*t)/100\n",
    "print(si)"
   ]
  },
  {
   "cell_type": "code",
   "execution_count": 10,
   "id": "b9d73a97-a840-4751-8099-bd329ba7fd09",
   "metadata": {},
   "outputs": [
    {
     "name": "stdout",
     "output_type": "stream",
     "text": [
      "60.0\n"
     ]
    }
   ],
   "source": [
    "#Mixed Arithmetic\n",
    "exp = (15+5)*(20-8)/4\n",
    "print(exp)"
   ]
  },
  {
   "cell_type": "code",
   "execution_count": 11,
   "id": "c9a03e48-a30a-41b1-8f70-3c287dac226b",
   "metadata": {},
   "outputs": [
    {
     "name": "stdin",
     "output_type": "stream",
     "text": [
      "Enter first value: 78\n",
      "Enter second value: 65\n"
     ]
    },
    {
     "name": "stdout",
     "output_type": "stream",
     "text": [
      "Addition:\n",
      "143\n",
      "Subtrction:\n",
      "13\n",
      "product:\n",
      "5070\n",
      "divide:\n",
      "1.2\n",
      "modulus:\n",
      "13\n",
      "Float division:\n",
      "1\n"
     ]
    }
   ],
   "source": [
    "#Arithmetic Operators\n",
    "a=int(input(\"Enter first value:\"))\n",
    "b=int(input(\"Enter second value:\"))\n",
    "print(\"Addition:\")\n",
    "print(a+b)\n",
    "print(\"Subtrction:\")\n",
    "print(a-b)\n",
    "print(\"product:\")\n",
    "print(a*b)\n",
    "print(\"divide:\")\n",
    "print(a/b)\n",
    "print(\"modulus:\")\n",
    "print(a%b)\n",
    "print(\"Float division:\")\n",
    "print(a//b)"
   ]
  },
  {
   "cell_type": "code",
   "execution_count": 12,
   "id": "8ae3d085-56e5-4511-b871-b590643ca66b",
   "metadata": {},
   "outputs": [
    {
     "name": "stdin",
     "output_type": "stream",
     "text": [
      "Enter a integer Number: 78\n"
     ]
    },
    {
     "name": "stdout",
     "output_type": "stream",
     "text": [
      "83\n",
      "78\n",
      "390\n",
      "78.0\n",
      "15.0\n",
      "759375.0\n"
     ]
    }
   ],
   "source": [
    "#Assignment Operators\n",
    "a = int(input(\"Enter a integer Number:\"))\n",
    "a+=5\n",
    "print(a)\n",
    "a-=5\n",
    "print(a)\n",
    "a*=5\n",
    "print(a)\n",
    "a/=5\n",
    "print(a)\n",
    "a//=5\n",
    "print(a)\n",
    "a**=5\n",
    "print(a)"
   ]
  },
  {
   "cell_type": "code",
   "execution_count": 13,
   "id": "4aa34018-0244-4422-ada8-cec65d5e4a45",
   "metadata": {},
   "outputs": [
    {
     "name": "stdout",
     "output_type": "stream",
     "text": [
      "AND operator:\n",
      "True\n",
      "OR operator:\n",
      "True\n",
      "NOT operator:\n",
      "False\n"
     ]
    }
   ],
   "source": [
    "#logical operators\n",
    "a=10\n",
    "b=20\n",
    "print(\"AND operator:\")\n",
    "print(a>1 and b>5)\n",
    "print(\"OR operator:\")\n",
    "print(a>8 or a==b)\n",
    "print(\"NOT operator:\")\n",
    "print(not(a)) "
   ]
  },
  {
   "cell_type": "code",
   "execution_count": 14,
   "id": "1488f5af-8e58-441b-9654-d367cf37c576",
   "metadata": {},
   "outputs": [
    {
     "name": "stdout",
     "output_type": "stream",
     "text": [
      "a is greater:\n",
      "False\n",
      "b is greater:\n",
      "True\n",
      "a and b are equal\n",
      "False\n",
      "a is less than equal to b:\n",
      "True\n",
      "b is less than equal to a:\n",
      "False\n"
     ]
    }
   ],
   "source": [
    "#Comparison Operators\n",
    "a=10\n",
    "b=20\n",
    "print(\"a is greater:\")\n",
    "print(a>b)\n",
    "print(\"b is greater:\")\n",
    "print (a<b)\n",
    "print(\"a and b are equal\")\n",
    "print(a==b)\n",
    "print(\"a is less than equal to b:\")\n",
    "print(a<=b)\n",
    "print(\"b is less than equal to a:\")\n",
    "print(a>=b) "
   ]
  },
  {
   "cell_type": "code",
   "execution_count": 15,
   "id": "80a68fb6-2f70-4984-8c77-2953db15a78e",
   "metadata": {},
   "outputs": [
    {
     "name": "stdout",
     "output_type": "stream",
     "text": [
      "pre increment:\n",
      "15\n",
      "post increment:\n",
      "20\n"
     ]
    }
   ],
   "source": [
    "#Preorder , Postorder Incrementation\n",
    "a=10\n",
    "print(\"pre increment:\")\n",
    "a+=5\n",
    "print(a)\n",
    "print(\"post increment:\")\n",
    "a=+20\n",
    "print(a)"
   ]
  },
  {
   "cell_type": "code",
   "execution_count": 17,
   "id": "e1c3d528-9aaf-4d7f-bad7-5733cbe23f69",
   "metadata": {},
   "outputs": [
    {
     "name": "stdout",
     "output_type": "stream",
     "text": [
      "True\n",
      "True\n",
      "False\n"
     ]
    }
   ],
   "source": [
    "#Membership operator\n",
    "a=\"Janvi\"\n",
    "print(\"J\" in a)\n",
    "print(\"i\" in a)\n",
    "print(\"n\" not in a)"
   ]
  },
  {
   "cell_type": "code",
   "execution_count": 18,
   "id": "7731e72f-fb37-403a-961a-d6fc2b9170f7",
   "metadata": {},
   "outputs": [
    {
     "name": "stdout",
     "output_type": "stream",
     "text": [
      "Bitwise AND operator\n",
      "True\n",
      "Bitwise OR operator\n",
      "False\n",
      "Bitwise Not operator\n",
      "-11\n"
     ]
    }
   ],
   "source": [
    "#Bitwise operator\n",
    "a=10\n",
    "b=20\n",
    "print(\"Bitwise AND operator\")\n",
    "result=a<b & b>a\n",
    "print(result)\n",
    "print(\"Bitwise OR operator\")\n",
    "result = a>b | b>a\n",
    "print(result)\n",
    "print(\"Bitwise Not operator\")\n",
    "result=~a\n",
    "print(result)"
   ]
  },
  {
   "cell_type": "code",
   "execution_count": 19,
   "id": "d7b520f0-a5c5-4320-abea-7e300d07b385",
   "metadata": {},
   "outputs": [
    {
     "name": "stdout",
     "output_type": "stream",
     "text": [
      "False\n",
      "True\n"
     ]
    }
   ],
   "source": [
    "#Indentify operator\n",
    "a=10\n",
    "b=20\n",
    "print(a is b)\n",
    "print(a is not b)"
   ]
  },
  {
   "cell_type": "code",
   "execution_count": null,
   "id": "90740b06-70ef-4473-b560-fe2f63c331bd",
   "metadata": {},
   "outputs": [],
   "source": []
  }
 ],
 "metadata": {
  "kernelspec": {
   "display_name": "Python [conda env:base]",
   "language": "python",
   "name": "conda-base-py"
  },
  "language_info": {
   "codemirror_mode": {
    "name": "ipython",
    "version": 3
   },
   "file_extension": ".py",
   "mimetype": "text/x-python",
   "name": "python",
   "nbconvert_exporter": "python",
   "pygments_lexer": "ipython3",
   "version": "3.13.5"
  }
 },
 "nbformat": 4,
 "nbformat_minor": 5
}
