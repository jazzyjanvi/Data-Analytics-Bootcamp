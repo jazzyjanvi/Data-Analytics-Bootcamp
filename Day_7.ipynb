{
 "cells": [
  {
   "cell_type": "code",
   "execution_count": 1,
   "id": "87f65790-4648-4dda-b049-9566f8653bd6",
   "metadata": {},
   "outputs": [
    {
     "name": "stdout",
     "output_type": "stream",
     "text": [
      "Table created successfully.\n"
     ]
    }
   ],
   "source": [
    "#database mysql connectivity with using python\n",
    "import sqlite3\n",
    "com = sqlite3.connect(\"College.db\")\n",
    "cursor = com.cursor()\n",
    "cursor.execute('''\n",
    "CREATE TABLE IF NOT EXISTS student (\n",
    "    id INTEGER PRIMARY KEY AUTOINCREMENT,\n",
    "    name TEXT NOT NULL,\n",
    "    age INTEGER,\n",
    "    grade TEXT\n",
    ")\n",
    "''')\n",
    "com.commit()\n",
    "print(\"Table created successfully.\")"
   ]
  },
  {
   "cell_type": "code",
   "execution_count": 6,
   "id": "201b6e17-17d6-44cb-968e-d223e9930042",
   "metadata": {},
   "outputs": [
    {
     "name": "stdout",
     "output_type": "stream",
     "text": [
      "Student inserted successfully.\n",
      "Student inserted successfully.\n"
     ]
    }
   ],
   "source": [
    "def insert_student(name, age, grade):\n",
    "    cursor.execute(\"INSERT INTO student (name, age, grade) VALUES (?, ?, ?)\", (name, age, grade))\n",
    "    com.commit()\n",
    "    print(\"Student inserted successfully.\")\n",
    "\n",
    "insert_student('Janvi', 18, 'A')\n",
    "insert_student('Kush', 20, 'B')"
   ]
  },
  {
   "cell_type": "code",
   "execution_count": 7,
   "id": "cd35665e-6870-415c-ba57-d6735d163d46",
   "metadata": {},
   "outputs": [
    {
     "name": "stdout",
     "output_type": "stream",
     "text": [
      "(1, 'Riya', 20, 'A')\n",
      "(2, 'Sneha', 22, 'B')\n",
      "(3, 'Janvi', 18, 'A')\n",
      "(4, 'Kush', 20, 'B')\n",
      "(5, 'Janvi', 18, 'A')\n",
      "(6, 'Kush', 20, 'B')\n"
     ]
    }
   ],
   "source": [
    "def fetch_students():\n",
    "    cursor.execute(\"SELECT * FROM student\")\n",
    "    rows = cursor.fetchall()\n",
    "    for row in rows:\n",
    "        print(row)\n",
    "\n",
    "fetch_students()"
   ]
  },
  {
   "cell_type": "code",
   "execution_count": 8,
   "id": "f9e9ee5d-d208-4b85-b6eb-baadaeb23f8b",
   "metadata": {},
   "outputs": [
    {
     "name": "stdout",
     "output_type": "stream",
     "text": [
      "Student updated successfully.\n"
     ]
    }
   ],
   "source": [
    "def update_student(student_id, new_name, new_age, new_grade):\n",
    "    cursor.execute(\"UPDATE student SET name=?, age=?, grade=? WHERE id=?\", (new_name, new_age, new_grade, student_id))\n",
    "    com.commit()\n",
    "    print(\"Student updated successfully.\")\n",
    "update_student(1, 'Janvi Jasoria', 21, 'A+')"
   ]
  },
  {
   "cell_type": "code",
   "execution_count": 9,
   "id": "8e9ed1fc-1e1b-463b-a8a8-25ebde64f001",
   "metadata": {},
   "outputs": [
    {
     "name": "stdout",
     "output_type": "stream",
     "text": [
      "Student deleted successfully.\n"
     ]
    }
   ],
   "source": [
    "def delete_student(student_id):\n",
    "    cursor.execute(\"DELETE FROM student WHERE id=?\", (student_id,))\n",
    "    com.commit()\n",
    "    print(\"Student deleted successfully.\")\n",
    "\n",
    "delete_student(2)"
   ]
  },
  {
   "cell_type": "code",
   "execution_count": 10,
   "id": "f9ba09f2-7537-408f-9769-b4dca68a53de",
   "metadata": {},
   "outputs": [
    {
     "name": "stdout",
     "output_type": "stream",
     "text": [
      "Database connection closed.\n"
     ]
    }
   ],
   "source": [
    "com.close()\n",
    "print(\"Database connection closed.\")"
   ]
  },
  {
   "cell_type": "code",
   "execution_count": 11,
   "id": "82752f99-7535-411a-9655-c4a618f49655",
   "metadata": {},
   "outputs": [
    {
     "name": "stdout",
     "output_type": "stream",
     "text": [
      "[1 2 3]\n",
      "[[1 2]\n",
      " [3 4]]\n"
     ]
    }
   ],
   "source": [
    "#numpy\n",
    "import numpy as np\n",
    "# array\n",
    "a = np.array([1,2,3])\n",
    "b = np.array([[1,2],[3,4]])\n",
    "print(a)\n",
    "print(b)"
   ]
  },
  {
   "cell_type": "code",
   "execution_count": 12,
   "id": "6cadf7e3-3cd4-41d1-86c6-638f7c770862",
   "metadata": {},
   "outputs": [
    {
     "name": "stdout",
     "output_type": "stream",
     "text": [
      "(2, 3)\n",
      "6\n",
      "2\n",
      "int64\n"
     ]
    }
   ],
   "source": [
    "twoD = np.array([[1,2,3],[4,5,6]])\n",
    "#array function\n",
    "print(twoD.shape)\n",
    "print(twoD.size)\n",
    "print(twoD.ndim)\n",
    "print(twoD.dtype)"
   ]
  },
  {
   "cell_type": "code",
   "execution_count": 13,
   "id": "4ad2d3f2-6170-4a29-83b9-2aa691caf24d",
   "metadata": {},
   "outputs": [
    {
     "name": "stdout",
     "output_type": "stream",
     "text": [
      "[[1 2]\n",
      " [3 4]\n",
      " [5 6]]\n"
     ]
    }
   ],
   "source": [
    "#reshape\n",
    "twoD = np.array([1,2,3,4,5,6])\n",
    "print(twoD.reshape(3,2))"
   ]
  },
  {
   "cell_type": "code",
   "execution_count": 14,
   "id": "da993653-22ee-486f-8246-2c0cdeea6bcb",
   "metadata": {},
   "outputs": [
    {
     "name": "stdout",
     "output_type": "stream",
     "text": [
      "[1 2 3]\n",
      "[99  2  3]\n"
     ]
    }
   ],
   "source": [
    "import numpy as np\n",
    "#copy\n",
    "a = np.array([1, 2, 3])\n",
    "b = a.copy()\n",
    "c = a.view()\n",
    "a[0] = 99\n",
    "print(b)  # [1 2 3] (copy remains same)\n",
    "print(c)  # [99 2 3] (view reflects change)"
   ]
  },
  {
   "cell_type": "code",
   "execution_count": 17,
   "id": "0c1d4a81-a931-4c21-b89d-d443b4abcc12",
   "metadata": {},
   "outputs": [
    {
     "name": "stdout",
     "output_type": "stream",
     "text": [
      "Zeros Matrix: \n",
      " [[0. 0. 0.]\n",
      " [0. 0. 0.]]\n",
      "Ones Matrix: \n",
      " [[1. 1. 1.]\n",
      " [1. 1. 1.]\n",
      " [1. 1. 1.]]\n",
      "Identity Matrix: \n",
      " [[1. 0. 0.]\n",
      " [0. 1. 0.]]\n",
      "Full Matrix:\n",
      " [[7 7 7]\n",
      " [7 7 7]]\n",
      "Arranged Matrix:\n",
      " [1 3]\n",
      "linspace Matrix:\n",
      " [1. 4. 7.]\n"
     ]
    }
   ],
   "source": [
    "twoD = np.array([[1,2,3],[4,5,6]])\n",
    "print(\"Zeros Matrix: \\n\",np.zeros((2,3)))\n",
    "print(\"Ones Matrix: \\n\",np.ones((3,3)))\n",
    "print(\"Identity Matrix: \\n\",np.eye(2,3)) \n",
    "print(\"Full Matrix:\\n\",np.full((2,3),7))\n",
    "print(\"Arranged Matrix:\\n\",np.arange(1,5,2))\n",
    "print(\"linspace Matrix:\\n\",np.linspace(1,7,3))"
   ]
  },
  {
   "cell_type": "code",
   "execution_count": 18,
   "id": "7e24c19a-1442-44ee-985e-35becbb21a8c",
   "metadata": {},
   "outputs": [
    {
     "name": "stdout",
     "output_type": "stream",
     "text": [
      "Addition of matrix:  [26  7  4]\n",
      "Multiplication of corresponding elements:  [69 12  4]\n",
      "Exponent Matrix:  [ 9 16  4]\n",
      "Square of a Matrix:  [4.79583152 1.73205081 1.41421356]\n",
      "Mean of a Matrix:  3.0\n"
     ]
    }
   ],
   "source": [
    "a = np.array([23,3,2])\n",
    "b = np.array([3,4,2])\n",
    "#mathematical operation\n",
    "print(\"Addition of matrix: \",a+b)\n",
    "print(\"Multiplication of corresponding elements: \",a * b)\n",
    "print(\"Exponent Matrix: \",b ** 2)\n",
    "print(\"Square of a Matrix: \",np.sqrt(a))\n",
    "print(\"Mean of a Matrix: \",np.mean(b))"
   ]
  },
  {
   "cell_type": "code",
   "execution_count": 19,
   "id": "1d0baa61-b80a-4b38-bfff-4db0d7651f2b",
   "metadata": {},
   "outputs": [
    {
     "name": "stdout",
     "output_type": "stream",
     "text": [
      "29\n",
      "1\n",
      "9\n",
      "[ 5 15  9]\n",
      "[10 19]\n",
      "[[1 3 6]\n",
      " [4 6 9]]\n",
      "[1 6 3 4 9 6]\n",
      "[[1 4]\n",
      " [6 9]\n",
      " [3 6]]\n"
     ]
    }
   ],
   "source": [
    "twoD = np.array([[1,6,3],[4,9,6]])\n",
    "print(np.sum(twoD))\n",
    "print(np.min(twoD))\n",
    "print(np.max(twoD))\n",
    "print(np.sum(twoD,axis=0)) #column wise sum\n",
    "print(np.sum(twoD,axis=1)) #row wise sum\n",
    "print(np.sort(twoD))\n",
    "print(twoD.flatten()) # converted to array\n",
    "print(twoD.T)"
   ]
  },
  {
   "cell_type": "code",
   "execution_count": 20,
   "id": "25f99dc8-73ac-4032-b75a-824cef9a7c62",
   "metadata": {},
   "outputs": [
    {
     "name": "stdout",
     "output_type": "stream",
     "text": [
      "[[14 39 24]\n",
      " [13 63 33]]\n"
     ]
    }
   ],
   "source": [
    "#matrix multiplication \n",
    "b = np.array([[1,6,3],[4,9,6]])\n",
    "a = np.array([[2,3],[9,1]])\n",
    "print(np.dot(a,b))"
   ]
  },
  {
   "cell_type": "code",
   "execution_count": 21,
   "id": "3166834b-35dc-420b-901f-17bb7adca1ba",
   "metadata": {},
   "outputs": [],
   "source": [
    "#metplotlib\n",
    "#seaborn"
   ]
  },
  {
   "cell_type": "code",
   "execution_count": 22,
   "id": "94342d5c-683c-42dc-9fd4-038c6378133e",
   "metadata": {},
   "outputs": [],
   "source": [
    "import pandas as pd"
   ]
  },
  {
   "cell_type": "code",
   "execution_count": 23,
   "id": "2ddcd279-9a81-4bac-a9cb-e52796c72577",
   "metadata": {},
   "outputs": [
    {
     "name": "stdout",
     "output_type": "stream",
     "text": [
      "{'Name': ['Janvi', 'Kush'], 'Age': [18, 20]}\n"
     ]
    }
   ],
   "source": [
    "#from dictionary\n",
    "data = {\n",
    "    \"Name\" : [\"Janvi\",\"Kush\"], # dictionary with multiple values \n",
    "    \"Age\" : [18,20]}\n",
    "\n",
    "print(data)"
   ]
  },
  {
   "cell_type": "code",
   "execution_count": 24,
   "id": "2ebc1980-0511-43d9-a43e-00a2b5202ee4",
   "metadata": {},
   "outputs": [
    {
     "name": "stdout",
     "output_type": "stream",
     "text": [
      "[ 0  1  2  3  4  5  6  7  8  9 10]\n"
     ]
    }
   ],
   "source": [
    "# Que1: Create a NumPy array of integers from 0 to 10.\n",
    "print(np.arange(0,11))"
   ]
  },
  {
   "cell_type": "code",
   "execution_count": 25,
   "id": "75eae4c2-8179-4872-b089-bbfbb7d0e9ce",
   "metadata": {},
   "outputs": [
    {
     "name": "stdout",
     "output_type": "stream",
     "text": [
      "[0. 0. 0. 0. 0. 1. 0. 0. 0. 0.]\n"
     ]
    }
   ],
   "source": [
    "# Que2: Create an array of 10 zeros and change the 5th value to 1.\n",
    "arr = np.zeros((10))\n",
    "arr[5] = 1\n",
    "print(arr)"
   ]
  },
  {
   "cell_type": "code",
   "execution_count": 26,
   "id": "cbfe8c3c-21e1-4402-9dee-5433fb9fe157",
   "metadata": {},
   "outputs": [
    {
     "name": "stdout",
     "output_type": "stream",
     "text": [
      "[1. 1. 1. 1. 1. 1. 1. 1. 1. 1.]\n"
     ]
    }
   ],
   "source": [
    "# Que3: Generate an array of 10 ones.\n",
    "print(np.ones((10)))"
   ]
  },
  {
   "cell_type": "code",
   "execution_count": 27,
   "id": "96d47559-49bf-4d7a-9d5b-46bfe0e85164",
   "metadata": {},
   "outputs": [
    {
     "name": "stdout",
     "output_type": "stream",
     "text": [
      "[0.         0.05263158 0.10526316 0.15789474 0.21052632 0.26315789\n",
      " 0.31578947 0.36842105 0.42105263 0.47368421 0.52631579 0.57894737\n",
      " 0.63157895 0.68421053 0.73684211 0.78947368 0.84210526 0.89473684\n",
      " 0.94736842 1.        ]\n"
     ]
    }
   ],
   "source": [
    "# Que4: Create a 1D array of 20 equally spaced numbers between 0 and 1.\n",
    "print(np.linspace(0,1,20))"
   ]
  },
  {
   "cell_type": "code",
   "execution_count": 28,
   "id": "3498bba9-4624-4d73-ac3e-85b7b3882205",
   "metadata": {},
   "outputs": [
    {
     "name": "stdout",
     "output_type": "stream",
     "text": [
      "[[1. 0. 0.]\n",
      " [0. 1. 0.]\n",
      " [0. 0. 1.]]\n"
     ]
    }
   ],
   "source": [
    "# Que5: Create a 3x3 identity matrix.\n",
    "print(np.eye(3,3)) "
   ]
  },
  {
   "cell_type": "code",
   "execution_count": 29,
   "id": "4afc9be9-e943-4389-ba7d-a122b8ab4175",
   "metadata": {},
   "outputs": [
    {
     "name": "stdout",
     "output_type": "stream",
     "text": [
      "Matrix 4x4:\n",
      " [[ 0  1  2  3]\n",
      " [ 4  5  6  7]\n",
      " [ 8  9 10 11]\n",
      " [12 13 14 15]]\n"
     ]
    }
   ],
   "source": [
    "# Que6: Create a 4x4 matrix with values from 0 to 15.\n",
    "arr = np.arange(0, 16).reshape(4, 4)\n",
    "print(\"Matrix 4x4:\\n\", arr)"
   ]
  },
  {
   "cell_type": "code",
   "execution_count": 30,
   "id": "9b397d42-b571-4a93-8f29-134dbcce3501",
   "metadata": {},
   "outputs": [
    {
     "name": "stdout",
     "output_type": "stream",
     "text": [
      "Matrix 5x5:\n",
      " [[23 62  5 41 62]\n",
      " [49 29 13 59 29]\n",
      " [94 86  4 92 34]\n",
      " [31 83  3 79  8]\n",
      " [48 45 85 86 32]]\n"
     ]
    }
   ],
   "source": [
    "# Que7: Generate a 5x5 matrix with random values.\n",
    "arr = np.random.randint(1, 101, size=(5, 5))\n",
    "print(\"Matrix 5x5:\\n\", arr)"
   ]
  },
  {
   "cell_type": "code",
   "execution_count": 31,
   "id": "4f53b2c7-5654-4a3b-8009-49b8053c1339",
   "metadata": {},
   "outputs": [
    {
     "name": "stdout",
     "output_type": "stream",
     "text": [
      "[12 90 21 78]\n"
     ]
    }
   ],
   "source": [
    "# Que8: Reverse the elements of an array.\n",
    "arr = np.array([78,21,90,12])\n",
    "print(np.flip(arr))"
   ]
  },
  {
   "cell_type": "code",
   "execution_count": 32,
   "id": "2bf23ca0-8e6b-4c06-b60d-5f6c517e2697",
   "metadata": {},
   "outputs": [
    {
     "name": "stdout",
     "output_type": "stream",
     "text": [
      "[21 34 89 23]\n"
     ]
    }
   ],
   "source": [
    "# Que9: Flatten a 2D array to 1D.\n",
    "twoD = np.array([[21,34],[89,23]]) # 2D\n",
    "print(twoD.flatten()) # 1D"
   ]
  },
  {
   "cell_type": "code",
   "execution_count": 33,
   "id": "2a0ee9aa-3e27-41dd-8e30-85f3fc35a1a3",
   "metadata": {},
   "outputs": [
    {
     "name": "stdout",
     "output_type": "stream",
     "text": [
      "78\n",
      "90\n",
      "12\n"
     ]
    }
   ],
   "source": [
    "# Que10: Extract even numbers from an array\n",
    "arr = np.array([78,21,90,12])\n",
    "for i in arr:\n",
    "    if i%2==0:\n",
    "        print(i)"
   ]
  }
 ],
 "metadata": {
  "kernelspec": {
   "display_name": "Python [conda env:base]",
   "language": "python",
   "name": "conda-base-py"
  },
  "language_info": {
   "codemirror_mode": {
    "name": "ipython",
    "version": 3
   },
   "file_extension": ".py",
   "mimetype": "text/x-python",
   "name": "python",
   "nbconvert_exporter": "python",
   "pygments_lexer": "ipython3",
   "version": "3.13.5"
  }
 },
 "nbformat": 4,
 "nbformat_minor": 5
}
