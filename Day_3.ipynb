{
 "cells": [
  {
   "cell_type": "code",
   "execution_count": 1,
   "id": "1be49f8d-b640-47c3-a0ae-9d8931243ea7",
   "metadata": {},
   "outputs": [
    {
     "name": "stdin",
     "output_type": "stream",
     "text": [
      "Enter a number 51\n"
     ]
    },
    {
     "name": "stdout",
     "output_type": "stream",
     "text": [
      "51x1=51\n",
      "51x2=102\n",
      "51x3=153\n",
      "51x4=204\n",
      "51x5=255\n",
      "51x6=306\n",
      "51x7=357\n",
      "51x8=408\n",
      "51x9=459\n",
      "51x10=510\n"
     ]
    }
   ],
   "source": [
    "#while loop\n",
    "num=int(input(\"Enter a number\"))\n",
    "i=1\n",
    "while i<=10:\n",
    "    print(f\"{num}x{i}={num*i}\")\n",
    "    i+=1"
   ]
  },
  {
   "cell_type": "code",
   "execution_count": 2,
   "id": "f37879eb-bbe2-407f-bb1b-5ce61efd2fd9",
   "metadata": {},
   "outputs": [
    {
     "name": "stdin",
     "output_type": "stream",
     "text": [
      "Enter a letter kjkjhjqnjkjhkjn\n"
     ]
    },
    {
     "name": "stdout",
     "output_type": "stream",
     "text": [
      "You typed: kjkjhjqnjkjhkjn\n"
     ]
    },
    {
     "name": "stdin",
     "output_type": "stream",
     "text": [
      "Enter a letter janvi\n"
     ]
    },
    {
     "name": "stdout",
     "output_type": "stream",
     "text": [
      "You typed: janvi\n"
     ]
    },
    {
     "name": "stdin",
     "output_type": "stream",
     "text": [
      "Enter a letter q\n"
     ]
    },
    {
     "name": "stdout",
     "output_type": "stream",
     "text": [
      "Exited loop\n"
     ]
    }
   ],
   "source": [
    "#Exit from while loop\n",
    "while True:\n",
    "    x=input(\"Enter a letter\")\n",
    "    if x=='q':\n",
    "        print(\"Exited loop\") \n",
    "        break\n",
    "    else:\n",
    "        print(\"You typed:\", x)"
   ]
  },
  {
   "cell_type": "code",
   "execution_count": 3,
   "id": "b1e574b8-bc7d-4d7e-a8fc-bb6fcc8570f0",
   "metadata": {},
   "outputs": [
    {
     "name": "stdin",
     "output_type": "stream",
     "text": [
      "Enter password jkb0302\n"
     ]
    },
    {
     "name": "stdout",
     "output_type": "stream",
     "text": [
      "Wrong password:2 attempts left\n"
     ]
    },
    {
     "name": "stdin",
     "output_type": "stream",
     "text": [
      "Enter password jkb0302.\n"
     ]
    },
    {
     "name": "stdout",
     "output_type": "stream",
     "text": [
      "Wrong password:1 attempts left\n"
     ]
    },
    {
     "name": "stdin",
     "output_type": "stream",
     "text": [
      "Enter password open\n"
     ]
    },
    {
     "name": "stdout",
     "output_type": "stream",
     "text": [
      "Login\n"
     ]
    }
   ],
   "source": [
    "#Three attempts\n",
    "password='open'\n",
    "attempts=3\n",
    "while attempts>0:\n",
    "    x=input(\"Enter password\")\n",
    "    if x=='open':\n",
    "        print(\"Login\")\n",
    "        break\n",
    "    else:\n",
    "        attempts-=1\n",
    "        print(f\"Wrong password:{attempts} attempts left\")"
   ]
  },
  {
   "cell_type": "code",
   "execution_count": 4,
   "id": "3b4f74ef-24bc-4f4e-a673-e140c0ebb099",
   "metadata": {},
   "outputs": [
    {
     "name": "stdout",
     "output_type": "stream",
     "text": [
      "Numbers divisible by 7 between 1 and 100 are:\n",
      "7\n",
      "14\n",
      "21\n",
      "28\n",
      "35\n",
      "42\n",
      "49\n",
      "56\n",
      "63\n",
      "70\n",
      "77\n",
      "84\n",
      "91\n",
      "98\n"
     ]
    }
   ],
   "source": [
    "#Numbers divisible by 7\n",
    "num=1\n",
    "print(\"Numbers divisible by 7 between 1 and 100 are:\")\n",
    "while num<=100:\n",
    "    if num%7==0:\n",
    "        print(num)\n",
    "    num+=1"
   ]
  },
  {
   "cell_type": "code",
   "execution_count": 6,
   "id": "95378cc3-1d14-40b4-a165-6d0c55497c5a",
   "metadata": {},
   "outputs": [
    {
     "name": "stdout",
     "output_type": "stream",
     "text": [
      "1\n",
      "2\n",
      "3\n",
      "4\n",
      "5\n"
     ]
    }
   ],
   "source": [
    "#for loop using range\n",
    "for i in range(1,6):\n",
    "    print(i)"
   ]
  },
  {
   "cell_type": "code",
   "execution_count": 7,
   "id": "aa9455fa-ccda-4fe4-bedf-fcb08bef5527",
   "metadata": {},
   "outputs": [
    {
     "name": "stdin",
     "output_type": "stream",
     "text": [
      "Enter a number 5\n"
     ]
    },
    {
     "name": "stdout",
     "output_type": "stream",
     "text": [
      "5x1=5\n",
      "5x2=10\n",
      "5x3=15\n",
      "5x4=20\n",
      "5x5=25\n",
      "5x6=30\n",
      "5x7=35\n",
      "5x8=40\n",
      "5x9=45\n",
      "5x10=50\n"
     ]
    }
   ],
   "source": [
    "#for loop using range\n",
    "num=int(input(\"Enter a number\"))\n",
    "for i in range(1,11):\n",
    "    print(f\"{num}x{i}={num*i}\")"
   ]
  },
  {
   "cell_type": "code",
   "execution_count": 11,
   "id": "9b56ddfd-69b8-4715-b227-2c2d1c6e4dc1",
   "metadata": {},
   "outputs": [
    {
     "name": "stdin",
     "output_type": "stream",
     "text": [
      "Enter password hjhj\n"
     ]
    },
    {
     "name": "stdout",
     "output_type": "stream",
     "text": [
      "Wrong password:2 attempts left\n"
     ]
    },
    {
     "name": "stdin",
     "output_type": "stream",
     "text": [
      "Enter password oiuytrw\n"
     ]
    },
    {
     "name": "stdout",
     "output_type": "stream",
     "text": [
      "Wrong password:1 attempts left\n"
     ]
    },
    {
     "name": "stdin",
     "output_type": "stream",
     "text": [
      "Enter password open\n"
     ]
    },
    {
     "name": "stdout",
     "output_type": "stream",
     "text": [
      "Login\n"
     ]
    }
   ],
   "source": [
    "#Three attempts using for loop\n",
    "password='open'\n",
    "attempt=3\n",
    "for attempts in range(3):\n",
    "    x=input(\"Enter password\")\n",
    "    if x=='open':\n",
    "        print(\"Login\")\n",
    "        break\n",
    "    else:\n",
    "        print(f\"Wrong password:{2-attempts} attempts left\")\n",
    "        attempts-=1"
   ]
  },
  {
   "cell_type": "code",
   "execution_count": 12,
   "id": "937cd613-2390-4c7b-b257-f0c91cf21c65",
   "metadata": {},
   "outputs": [
    {
     "name": "stdout",
     "output_type": "stream",
     "text": [
      "1\n",
      "2\n",
      "4\n",
      "5\n"
     ]
    }
   ],
   "source": [
    "#continue statement\n",
    "for i in range(1,6):\n",
    "    if i==3:\n",
    "        continue\n",
    "    print(i)"
   ]
  },
  {
   "cell_type": "code",
   "execution_count": 13,
   "id": "21e1edfd-5bd6-45a6-983b-ba10e6655e18",
   "metadata": {},
   "outputs": [
    {
     "name": "stdout",
     "output_type": "stream",
     "text": [
      "1\n",
      "2\n",
      "3\n",
      "4\n",
      "6\n",
      "7\n"
     ]
    }
   ],
   "source": [
    "#continue and break statement\n",
    "for i in range(1,11):\n",
    "    if i==5:\n",
    "        continue\n",
    "    elif i==8:\n",
    "        break\n",
    "    print(i)"
   ]
  },
  {
   "cell_type": "code",
   "execution_count": 14,
   "id": "32127443-ddbf-434b-a5e7-3cdc32d31f51",
   "metadata": {},
   "outputs": [
    {
     "name": "stdin",
     "output_type": "stream",
     "text": [
      "Enter password jkjk\n"
     ]
    },
    {
     "name": "stdout",
     "output_type": "stream",
     "text": [
      "Wrong password:4 attempts left\n"
     ]
    },
    {
     "name": "stdin",
     "output_type": "stream",
     "text": [
      "Enter password erttyuio\n"
     ]
    },
    {
     "name": "stdout",
     "output_type": "stream",
     "text": [
      "Wrong password:3 attempts left\n"
     ]
    },
    {
     "name": "stdin",
     "output_type": "stream",
     "text": [
      "Enter password qwertyuiop\n"
     ]
    },
    {
     "name": "stdout",
     "output_type": "stream",
     "text": [
      "Wrong password:2 attempts left\n"
     ]
    },
    {
     "name": "stdin",
     "output_type": "stream",
     "text": [
      "Enter password 78452\n"
     ]
    },
    {
     "name": "stdout",
     "output_type": "stream",
     "text": [
      "Wrong password:1 attempts left\n"
     ]
    },
    {
     "name": "stdin",
     "output_type": "stream",
     "text": [
      "Enter password open\n"
     ]
    },
    {
     "name": "stdout",
     "output_type": "stream",
     "text": [
      "Login\n"
     ]
    }
   ],
   "source": [
    "#Five attempts using continue and break\n",
    "password='open'\n",
    "attempt=5\n",
    "for attempts in range(6):\n",
    "    x=input(\"Enter password\")\n",
    "    if x=='open':\n",
    "        print(\"Login\")\n",
    "        break\n",
    "    elif x=='Forgot password':\n",
    "            attempts-=1\n",
    "            continue\n",
    "    else:\n",
    "        print(f\"Wrong password:{4-attempts} attempts left\")\n",
    "        attempts-=1"
   ]
  },
  {
   "cell_type": "code",
   "execution_count": 15,
   "id": "7cdf70aa-7269-4a50-beb9-1a27cfc72cc9",
   "metadata": {},
   "outputs": [
    {
     "name": "stdout",
     "output_type": "stream",
     "text": [
      "P\n",
      "y\n",
      "t\n",
      "h\n"
     ]
    }
   ],
   "source": [
    "#continue and break statement\n",
    "lang=\"Python programming\"\n",
    "i=lang[0]\n",
    "for i in range (len(lang)):\n",
    "    if lang[i]=='o':\n",
    "        continue\n",
    "    elif lang[i]=='n':\n",
    "        break\n",
    "    else:\n",
    "        print(lang[i])"
   ]
  },
  {
   "cell_type": "code",
   "execution_count": 16,
   "id": "a41308c8-31c0-4aa6-8584-0d04a94f9476",
   "metadata": {},
   "outputs": [
    {
     "name": "stdout",
     "output_type": "stream",
     "text": [
      "Hello\n"
     ]
    }
   ],
   "source": [
    "#User defined function\n",
    "def apple():\n",
    "    print(\"Hello\")\n",
    "apple() #calling teh function"
   ]
  },
  {
   "cell_type": "code",
   "execution_count": 17,
   "id": "c4f6755d-efc1-4400-9f43-ed3a180c6ba7",
   "metadata": {},
   "outputs": [
    {
     "name": "stdout",
     "output_type": "stream",
     "text": [
      "The sum of 5,6 is 11\n"
     ]
    }
   ],
   "source": [
    "#Function to add two numbers\n",
    "def mango(a,b):\n",
    "    c=a+b\n",
    "    print(f\"The sum of {a},{b} is {c}\")\n",
    "\n",
    "mango(5,6)"
   ]
  },
  {
   "cell_type": "code",
   "execution_count": 19,
   "id": "8b706c40-3b83-441b-b94b-6e19afe97212",
   "metadata": {},
   "outputs": [
    {
     "name": "stdin",
     "output_type": "stream",
     "text": [
      "Enter The Number: 12\n"
     ]
    },
    {
     "name": "stdout",
     "output_type": "stream",
     "text": [
      "Number is even and greater than 10\n"
     ]
    }
   ],
   "source": [
    "#if elif else questions\n",
    "num = int(input(\"Enter The Number:\"))\n",
    "if num%2==0:\n",
    "    if num>10:\n",
    "        print(\"Number is even and greater than 10\")"
   ]
  },
  {
   "cell_type": "code",
   "execution_count": 20,
   "id": "db10f63c-5bfe-44e2-b482-e59427f2e062",
   "metadata": {},
   "outputs": [
    {
     "name": "stdin",
     "output_type": "stream",
     "text": [
      "Enter The Number: 78\n",
      "Enter The Number: 65\n",
      "Enter The Number: 25\n"
     ]
    },
    {
     "name": "stdout",
     "output_type": "stream",
     "text": [
      "A is Greatest\n"
     ]
    }
   ],
   "source": [
    "a = int(input(\"Enter The Number:\"))\n",
    "b = int(input(\"Enter The Number:\"))\n",
    "c = int(input(\"Enter The Number:\"))\n",
    "if a>b:\n",
    "    if a>c:\n",
    "        print(\"A is Greatest\")\n",
    "    else:\n",
    "        print(\"C is Greatest\")\n",
    "if b>a :\n",
    "    if b>c :\n",
    "        print(\"B is Greatest\")\n",
    "    else :\n",
    "        print(\"C is Greatest\")"
   ]
  },
  {
   "cell_type": "code",
   "execution_count": 21,
   "id": "7c16367f-54ef-4f64-9947-2ae703ea8b14",
   "metadata": {},
   "outputs": [
    {
     "name": "stdin",
     "output_type": "stream",
     "text": [
      "enter your age 78\n"
     ]
    },
    {
     "name": "stdout",
     "output_type": "stream",
     "text": [
      "adult\n"
     ]
    }
   ],
   "source": [
    "age=int(input(\"enter your age\"))\n",
    "if age >=0:\n",
    "    if age<13:\n",
    "        print(\"child\")\n",
    "    elif age<18:\n",
    "        print(\"teen\")\n",
    "    else:\n",
    "        print(\"adult\")\n",
    "else :\n",
    "    print(\"Invalid Age !!!\")"
   ]
  },
  {
   "cell_type": "code",
   "execution_count": null,
   "id": "3474cfd5-ecf1-44de-a825-4dbd22fbdaef",
   "metadata": {},
   "outputs": [],
   "source": []
  }
 ],
 "metadata": {
  "kernelspec": {
   "display_name": "Python [conda env:base]",
   "language": "python",
   "name": "conda-base-py"
  },
  "language_info": {
   "codemirror_mode": {
    "name": "ipython",
    "version": 3
   },
   "file_extension": ".py",
   "mimetype": "text/x-python",
   "name": "python",
   "nbconvert_exporter": "python",
   "pygments_lexer": "ipython3",
   "version": "3.13.5"
  }
 },
 "nbformat": 4,
 "nbformat_minor": 5
}
