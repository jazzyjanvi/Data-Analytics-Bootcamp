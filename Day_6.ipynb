{
 "cells": [
  {
   "cell_type": "code",
   "execution_count": 1,
   "id": "53f06bd2-6187-4d6d-86ce-f96f954f5ab1",
   "metadata": {},
   "outputs": [
    {
     "name": "stdout",
     "output_type": "stream",
     "text": [
      "Hello world\n"
     ]
    }
   ],
   "source": [
    "#String method\n",
    "#capitalize()\n",
    "str = \"hello world\"\n",
    "print(str.capitalize())"
   ]
  },
  {
   "cell_type": "code",
   "execution_count": 2,
   "id": "fdadfe17-c23a-40a5-8d20-28a5616ffc47",
   "metadata": {},
   "outputs": [
    {
     "name": "stdout",
     "output_type": "stream",
     "text": [
      "HELLO WORLD\n"
     ]
    }
   ],
   "source": [
    "#upper case\n",
    "str = \"hello world\"\n",
    "print(str.upper())"
   ]
  },
  {
   "cell_type": "code",
   "execution_count": 3,
   "id": "f6ef84df-66f4-4edc-a718-7f3d8507b147",
   "metadata": {},
   "outputs": [
    {
     "name": "stdout",
     "output_type": "stream",
     "text": [
      "hello world\n"
     ]
    }
   ],
   "source": [
    "#lower case\n",
    "str = \"Hello World\"\n",
    "print(str.lower())"
   ]
  },
  {
   "cell_type": "code",
   "execution_count": 4,
   "id": "363ec314-fa75-49b6-9802-7babe2f9fd2f",
   "metadata": {},
   "outputs": [
    {
     "name": "stdout",
     "output_type": "stream",
     "text": [
      "Hello World\n"
     ]
    }
   ],
   "source": [
    "#title\n",
    "str = \"hello world\"\n",
    "print(str.title())"
   ]
  },
  {
   "cell_type": "code",
   "execution_count": 5,
   "id": "af1833c3-5fc1-47ce-9dcd-1258e3ae8e60",
   "metadata": {},
   "outputs": [
    {
     "name": "stdout",
     "output_type": "stream",
     "text": [
      "Hello World\n"
     ]
    }
   ],
   "source": [
    "#title\n",
    "str = \"hello world\"\n",
    "print(str.title())"
   ]
  },
  {
   "cell_type": "code",
   "execution_count": 6,
   "id": "8c3fccd1-7c18-495f-9b08-8e3a8fc1ae31",
   "metadata": {},
   "outputs": [
    {
     "name": "stdout",
     "output_type": "stream",
     "text": [
      "hELLO wORLD\n"
     ]
    }
   ],
   "source": [
    "#swapcase\n",
    "str = \"Hello World\"\n",
    "print(str.swapcase())"
   ]
  },
  {
   "cell_type": "code",
   "execution_count": 7,
   "id": "bfeaaa30-cc2f-4616-8b4d-7092a1c1b061",
   "metadata": {},
   "outputs": [
    {
     "name": "stdout",
     "output_type": "stream",
     "text": [
      "Hello\n",
      "Hello  \n",
      "  Hello\n"
     ]
    }
   ],
   "source": [
    "#strip()\n",
    "#lstrip() left\n",
    "#rstrip() right\n",
    "str = \"  Hello  \"\n",
    "print(str.strip()) # \"hello\"\n",
    "print(str.lstrip()) # \"hello  \"\n",
    "print(str.rstrip()) # \"  hello\""
   ]
  },
  {
   "cell_type": "code",
   "execution_count": 8,
   "id": "410ac7e7-378a-4097-b088-11984eab1e0a",
   "metadata": {},
   "outputs": [
    {
     "name": "stdout",
     "output_type": "stream",
     "text": [
      "Pello\n"
     ]
    }
   ],
   "source": [
    "#replace()\n",
    "str = \"Hello\" # Pello\n",
    "#jisko replace karna hai woh first than jisse replace karna.\n",
    "print(str.replace('H','P'))"
   ]
  },
  {
   "cell_type": "code",
   "execution_count": 9,
   "id": "cbe5bee3-63b4-4641-bf1f-e47b9e609fbc",
   "metadata": {},
   "outputs": [
    {
     "name": "stdout",
     "output_type": "stream",
     "text": [
      "6\n"
     ]
    }
   ],
   "source": [
    "#find()\n",
    "str = \"Hello World\"\n",
    "print(str.find(\"World\"))"
   ]
  },
  {
   "cell_type": "code",
   "execution_count": 10,
   "id": "01add544-3969-4eee-8088-8d1627e2c94b",
   "metadata": {},
   "outputs": [
    {
     "name": "stdout",
     "output_type": "stream",
     "text": [
      "4\n"
     ]
    }
   ],
   "source": [
    "#index\n",
    "str = \"Hello World\"\n",
    "print(str.index(\"o\"))"
   ]
  },
  {
   "cell_type": "code",
   "execution_count": 12,
   "id": "d77f72da-bb3f-4f83-8138-d2393f17eeb7",
   "metadata": {},
   "outputs": [
    {
     "name": "stdout",
     "output_type": "stream",
     "text": [
      "2\n"
     ]
    }
   ],
   "source": [
    "#count()\n",
    "str = \"Hello World\"\n",
    "print(str.count(\"o\"))"
   ]
  },
  {
   "cell_type": "code",
   "execution_count": 13,
   "id": "7ba33f6a-7c86-47c9-9765-9e87ef5efd5e",
   "metadata": {},
   "outputs": [
    {
     "name": "stdout",
     "output_type": "stream",
     "text": [
      "False\n"
     ]
    }
   ],
   "source": [
    "#isalpha()\n",
    "str = \"Hello World\"\n",
    "print(str.isalpha())"
   ]
  },
  {
   "cell_type": "code",
   "execution_count": 14,
   "id": "12dc94f2-97ef-4578-a5e1-d5d71b6777ad",
   "metadata": {},
   "outputs": [
    {
     "name": "stdout",
     "output_type": "stream",
     "text": [
      "False\n"
     ]
    }
   ],
   "source": [
    "#isdigit()\n",
    "str = \"Hello World\"\n",
    "print(str.isdigit())"
   ]
  },
  {
   "cell_type": "code",
   "execution_count": 15,
   "id": "36d3f46f-846b-4fa3-92b3-bebf4cdc10c9",
   "metadata": {},
   "outputs": [
    {
     "name": "stdout",
     "output_type": "stream",
     "text": [
      "True\n"
     ]
    }
   ],
   "source": [
    "#isalnum()\n",
    "str = \"hello123\"\n",
    "print(str.isalnum())"
   ]
  },
  {
   "cell_type": "code",
   "execution_count": 16,
   "id": "4279df6a-81fa-4dd6-b098-665fb7b34262",
   "metadata": {},
   "outputs": [
    {
     "name": "stdout",
     "output_type": "stream",
     "text": [
      "My name is Janvi and I'm 18 years old\n"
     ]
    }
   ],
   "source": [
    "#f for formating\n",
    "name = \"Janvi\"\n",
    "age = 18\n",
    "print(\"My name is {} and I'm {} years old\".format(name,age))"
   ]
  },
  {
   "cell_type": "code",
   "execution_count": 17,
   "id": "2c12688b-2351-4d0f-aba7-7af2053b1b2e",
   "metadata": {},
   "outputs": [
    {
     "name": "stdout",
     "output_type": "stream",
     "text": [
      "dict_keys([1, 2, 3])\n"
     ]
    }
   ],
   "source": [
    "#keys \n",
    "d = {1:\"One\",2:\"Two\",3:\"Three\"}\n",
    "print(d.keys())"
   ]
  },
  {
   "cell_type": "code",
   "execution_count": 18,
   "id": "9857f2d1-3b5f-47c0-ad44-05649ac79835",
   "metadata": {},
   "outputs": [
    {
     "name": "stdout",
     "output_type": "stream",
     "text": [
      "dict_values(['One', 'Two', 'Three'])\n"
     ]
    }
   ],
   "source": [
    "#values\n",
    "d = {1:\"One\",2:\"Two\",3:\"Three\"}\n",
    "print(d.values())"
   ]
  },
  {
   "cell_type": "code",
   "execution_count": 19,
   "id": "873bc455-995b-4fd7-af1d-1b3a1cfd293c",
   "metadata": {},
   "outputs": [
    {
     "name": "stdout",
     "output_type": "stream",
     "text": [
      "One\n",
      "{2: 'Two', 3: 'Three'}\n"
     ]
    }
   ],
   "source": [
    "#pop - keys delete \n",
    "d = {1:\"One\",2:\"Two\",3:\"Three\"}\n",
    "print(d.pop(1))\n",
    "print(d)"
   ]
  },
  {
   "cell_type": "code",
   "execution_count": 20,
   "id": "3a4818f4-9d0a-437a-abcf-be40b653ba67",
   "metadata": {},
   "outputs": [
    {
     "name": "stdout",
     "output_type": "stream",
     "text": [
      "(3, 'Three')\n"
     ]
    }
   ],
   "source": [
    "#popitem\n",
    "d = {1:\"One\",2:\"Two\",3:\"Three\"}\n",
    "print(d.popitem())"
   ]
  },
  {
   "cell_type": "code",
   "execution_count": 21,
   "id": "74f708be-9c49-4c86-a057-8998d13d4f52",
   "metadata": {},
   "outputs": [
    {
     "name": "stdout",
     "output_type": "stream",
     "text": [
      "<class 'dict'>\n"
     ]
    }
   ],
   "source": [
    "d = {}\n",
    "print(type(d))"
   ]
  },
  {
   "cell_type": "code",
   "execution_count": 22,
   "id": "45f781b2-4ac5-4a41-8b2b-120b990b0622",
   "metadata": {},
   "outputs": [
    {
     "data": {
      "text/plain": [
       "11"
      ]
     },
     "execution_count": 22,
     "metadata": {},
     "output_type": "execute_result"
    }
   ],
   "source": [
    "len(\"hello world\")"
   ]
  },
  {
   "cell_type": "code",
   "execution_count": 23,
   "id": "6f4efd89-61b9-42ad-8502-7e4bb21b90be",
   "metadata": {},
   "outputs": [],
   "source": [
    "# Baisc File operations\n",
    "# 1. open file\n",
    "import os\n",
    "File = open(\"Myfile.txt\",\"w\") # r,w,a,+\n",
    "\n",
    "# write\n",
    "File.writelines(\"Hello World\\n\")\n",
    "File.close()"
   ]
  },
  {
   "cell_type": "code",
   "execution_count": 24,
   "id": "4247a815-ebc4-4bcb-a0d7-00ab11764c22",
   "metadata": {},
   "outputs": [
    {
     "name": "stdout",
     "output_type": "stream",
     "text": [
      "File does not exist\n"
     ]
    }
   ],
   "source": [
    "import os\n",
    "if os.path.exists(\"Myfile2.txt\"):\n",
    "    os.remove(\"Myfile2.txt\")\n",
    "else :\n",
    "    print(\"File does not exist\")"
   ]
  },
  {
   "cell_type": "code",
   "execution_count": 25,
   "id": "08b5e422-1f3d-4b69-9cb8-38e6fd24d194",
   "metadata": {},
   "outputs": [
    {
     "name": "stdout",
     "output_type": "stream",
     "text": [
      "Hello World\n",
      "\n"
     ]
    }
   ],
   "source": [
    "File = open(\"Myfile.txt\",\"r\")\n",
    "# 2. read from file\n",
    "context = File.read() # read ,readline,realines\n",
    "print(context)\n",
    "\n",
    "# 3. close the file\n",
    "File.close()"
   ]
  },
  {
   "cell_type": "code",
   "execution_count": 27,
   "id": "4dfda69f-cb58-4326-a2b2-c6052a0c925c",
   "metadata": {},
   "outputs": [
    {
     "name": "stdout",
     "output_type": "stream",
     "text": [
      "Animal makes sound.\n",
      "Dog is barking !!!\n"
     ]
    }
   ],
   "source": [
    "# oops\n",
    "# inheritance\n",
    "class Animal:\n",
    "    def sound(self):\n",
    "        print(\"Animal makes sound.\")\n",
    "class Dog(Animal):\n",
    "  def sound(self):\n",
    "        print(\"Dog is barking !!!\")\n",
    "\n",
    "b = Animal()\n",
    "b.sound()  # Output: Animal makes sound.\n",
    "\n",
    "a = Dog()\n",
    "a.sound()  # Output: Dog is barking !!!"
   ]
  },
  {
   "cell_type": "code",
   "execution_count": 28,
   "id": "57346de0-44f8-4242-8585-031cf3775250",
   "metadata": {},
   "outputs": [
    {
     "name": "stdin",
     "output_type": "stream",
     "text": [
      "Enter Amount to deposit: 10000\n",
      "Do You want to withdraw amount if yes enter 'Y' Or no for 'N': Y\n",
      "Enter Amount to withdraw: 2505\n"
     ]
    },
    {
     "name": "stdout",
     "output_type": "stream",
     "text": [
      "Your Remaining balance is: 7495\n",
      "Successfully withdrawn amount: 2505\n"
     ]
    }
   ],
   "source": [
    "# minor project atm\n",
    "def addAmount():\n",
    "        deposit = int(input(\"Enter Amount to deposit:\"))\n",
    "        choice = input(\"Do You want to withdraw amount if yes enter 'Y' Or no for 'N':\")\n",
    "        if(choice=='Y'):\n",
    "            withdrawn = int(input(\"Enter Amount to withdraw:\"))\n",
    "            AIM(deposit,withdrawn)\n",
    "        else:\n",
    "            print(\"exited !!!\") \n",
    "            return;\n",
    "\n",
    "def AIM(deposit,withdrawn) :\n",
    "    if withdrawn >=500:\n",
    "        if withdrawn<=deposit :\n",
    "            amount = deposit - withdrawn\n",
    "            print(\"Your Remaining balance is:\",amount)\n",
    "            print(\"Successfully withdrawn amount:\",withdrawn)\n",
    "        else:\n",
    "            print(\"Insufficient Balance !!!\")\n",
    "    else:\n",
    "        print(\"You withdrawn amount is less than 500 !!!\")\n",
    "\n",
    "addAmount()"
   ]
  },
  {
   "cell_type": "code",
   "execution_count": 30,
   "id": "20eb76c4-39ea-42aa-b7c2-264481e20be0",
   "metadata": {},
   "outputs": [
    {
     "name": "stdin",
     "output_type": "stream",
     "text": [
      "Enter Amount to deposit: 10000\n",
      "Do You want to withdraw amount if yes enter 'Y' Or no for 'N': Y\n",
      "Enter Amount to withdraw: 522\n"
     ]
    },
    {
     "name": "stdout",
     "output_type": "stream",
     "text": [
      "Your Remaining balance is: 9478\n",
      "Successfully withdrawn amount: 522\n"
     ]
    }
   ],
   "source": [
    "# minor project atm code with class and object\n",
    "class Bank:\n",
    "    def addAmount(self):\n",
    "        deposit = int(input(\"Enter Amount to deposit:\"))\n",
    "        choice = input(\"Do You want to withdraw amount if yes enter 'Y' Or no for 'N':\")\n",
    "        if(choice=='Y'):\n",
    "            withdrawn = int(input(\"Enter Amount to withdraw:\"))\n",
    "            AIM(deposit,withdrawn)\n",
    "        else:\n",
    "            print(\"exited !!!\")\n",
    "            return;\n",
    "\n",
    "    def AIM(deposit,withdrawn) :\n",
    "        if withdrawn >=500:\n",
    "            if withdrawn<=deposit :\n",
    "                amount = deposit - withdrawn\n",
    "                print(\"Your Remaining balance is:\",amount)\n",
    "                print(\"Successfully withdrawn amount:\",withdrawn)\n",
    "            else:\n",
    "                print(\"Insufficient Balance !!!\")\n",
    "        else:\n",
    "            print(\"You withdrawn amount is less than 500 !!!\")\n",
    "\n",
    "bank = Bank()\n",
    "bank.addAmount()"
   ]
  }
 ],
 "metadata": {
  "kernelspec": {
   "display_name": "Python [conda env:base]",
   "language": "python",
   "name": "conda-base-py"
  },
  "language_info": {
   "codemirror_mode": {
    "name": "ipython",
    "version": 3
   },
   "file_extension": ".py",
   "mimetype": "text/x-python",
   "name": "python",
   "nbconvert_exporter": "python",
   "pygments_lexer": "ipython3",
   "version": "3.13.5"
  }
 },
 "nbformat": 4,
 "nbformat_minor": 5
}
