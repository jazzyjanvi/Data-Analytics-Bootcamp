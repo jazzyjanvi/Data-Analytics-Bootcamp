{
 "cells": [
  {
   "cell_type": "code",
   "execution_count": 5,
   "id": "e0c3b428-fffa-4b8e-8286-22b8eab4edb6",
   "metadata": {},
   "outputs": [
    {
     "name": "stdout",
     "output_type": "stream",
     "text": [
      "[1, 2, 3, 4]\n"
     ]
    }
   ],
   "source": [
    "#Data Structure\n",
    "#list mutable \n",
    "#append()\n",
    "a = [1,2,3]\n",
    "a.append(4)\n",
    "print(a)"
   ]
  },
  {
   "cell_type": "code",
   "execution_count": 6,
   "id": "9c9685bf-dea7-4387-9809-259b5ad1424e",
   "metadata": {},
   "outputs": [
    {
     "name": "stdout",
     "output_type": "stream",
     "text": [
      "[1, 2, 2, 3, 4]\n"
     ]
    }
   ],
   "source": [
    "#insert\n",
    "a.insert(1,2)\n",
    "print(a)"
   ]
  },
  {
   "cell_type": "code",
   "execution_count": 7,
   "id": "687efb1f-b838-4c97-bdb4-a59b9ca7db22",
   "metadata": {},
   "outputs": [
    {
     "name": "stdout",
     "output_type": "stream",
     "text": [
      "[1, 2, 2, 3, 4, 5, 6]\n"
     ]
    }
   ],
   "source": [
    "#extend()\n",
    "a.extend([5,6])\n",
    "print(a)"
   ]
  },
  {
   "cell_type": "code",
   "execution_count": 8,
   "id": "4b3cd4d8-080f-49ae-a2af-e17d66826652",
   "metadata": {},
   "outputs": [
    {
     "name": "stdout",
     "output_type": "stream",
     "text": [
      "[1, 2, 2, 3, 4, 5]\n"
     ]
    }
   ],
   "source": [
    "#pop(index) also can pass and delete the last element\n",
    "a.pop()\n",
    "print(a)"
   ]
  },
  {
   "cell_type": "code",
   "execution_count": 9,
   "id": "b0503673-a0f4-494e-baf2-1e35a8fe65ed",
   "metadata": {},
   "outputs": [
    {
     "name": "stdout",
     "output_type": "stream",
     "text": [
      "[1, 2, 3, 4, 5]\n"
     ]
    }
   ],
   "source": [
    "#remove the fisrt occurrence element \n",
    "a.remove(2)\n",
    "print(a)"
   ]
  },
  {
   "cell_type": "code",
   "execution_count": 10,
   "id": "ff479964-2e9e-4bb1-b4f7-884430a787eb",
   "metadata": {},
   "outputs": [
    {
     "name": "stdout",
     "output_type": "stream",
     "text": [
      "1\n"
     ]
    }
   ],
   "source": [
    "#count(ele) count no. of occurrence\n",
    "print(a.count(3))"
   ]
  },
  {
   "cell_type": "code",
   "execution_count": 11,
   "id": "dacce054-1747-4075-ab85-fea74c72ac41",
   "metadata": {},
   "outputs": [
    {
     "name": "stdout",
     "output_type": "stream",
     "text": [
      "1\n"
     ]
    }
   ],
   "source": [
    "#min(listname) return the min element\n",
    "print(min(a))"
   ]
  },
  {
   "cell_type": "code",
   "execution_count": 12,
   "id": "7a6dea54-0f19-4eeb-aa46-ef977d0e185c",
   "metadata": {},
   "outputs": [
    {
     "name": "stdout",
     "output_type": "stream",
     "text": [
      "5\n"
     ]
    }
   ],
   "source": [
    "#max(listname) return the max element\n",
    "print(max(a))"
   ]
  },
  {
   "cell_type": "code",
   "execution_count": 13,
   "id": "f88c5612-a2cd-4185-851f-1350cd6f5238",
   "metadata": {},
   "outputs": [
    {
     "name": "stdout",
     "output_type": "stream",
     "text": [
      "[5, 4, 3, 2, 1]\n"
     ]
    }
   ],
   "source": [
    "#reverse the list\n",
    "a.reverse()\n",
    "print(a)"
   ]
  },
  {
   "cell_type": "code",
   "execution_count": 14,
   "id": "60e307c2-c9ae-47d2-b520-98c4bce15ed9",
   "metadata": {},
   "outputs": [
    {
     "name": "stdout",
     "output_type": "stream",
     "text": [
      "[1, 2, 3, 4, 5]\n"
     ]
    }
   ],
   "source": [
    "#sort the list in ascending order\n",
    "a.sort()\n",
    "print(a)"
   ]
  },
  {
   "cell_type": "code",
   "execution_count": 15,
   "id": "e3fc944c-58a6-46e6-921d-83bd01b80e97",
   "metadata": {},
   "outputs": [
    {
     "name": "stdout",
     "output_type": "stream",
     "text": [
      "[]\n",
      "<class 'list'>\n"
     ]
    }
   ],
   "source": [
    "#clear() delete whole elements in a list and become empty list \n",
    "#variable type still be a <class 'list'>\n",
    "a.clear()\n",
    "print(a)\n",
    "print(type(a))"
   ]
  },
  {
   "cell_type": "code",
   "execution_count": 16,
   "id": "5d440e73-37d7-469e-bad6-181bb38fe839",
   "metadata": {},
   "outputs": [],
   "source": [
    "#del the specific index element\n",
    "a = [1,2,3]"
   ]
  },
  {
   "cell_type": "code",
   "execution_count": 17,
   "id": "25a77575-5c52-43a8-aae4-059b9bbd4817",
   "metadata": {},
   "outputs": [
    {
     "name": "stdout",
     "output_type": "stream",
     "text": [
      "2\n"
     ]
    }
   ],
   "source": [
    "#index(ele) return the index of the element\n",
    "print(a.index(3))"
   ]
  },
  {
   "cell_type": "code",
   "execution_count": 18,
   "id": "6d7c3059-a025-4ae2-a29a-6f16e5f1df1f",
   "metadata": {},
   "outputs": [
    {
     "name": "stdout",
     "output_type": "stream",
     "text": [
      "[2, 3]\n"
     ]
    }
   ],
   "source": [
    "#del\n",
    "del a[0]\n",
    "print(a)"
   ]
  },
  {
   "cell_type": "code",
   "execution_count": 19,
   "id": "883b102d-5410-4a2f-9e62-9600b0c55701",
   "metadata": {},
   "outputs": [
    {
     "name": "stdout",
     "output_type": "stream",
     "text": [
      "[2, 3]\n"
     ]
    }
   ],
   "source": [
    "#copy() list \n",
    "b = []\n",
    "b= a.copy()\n",
    "print(b)"
   ]
  },
  {
   "cell_type": "code",
   "execution_count": 20,
   "id": "3088fa85-4cf5-49cd-89a8-7255e83b845a",
   "metadata": {},
   "outputs": [
    {
     "name": "stdout",
     "output_type": "stream",
     "text": [
      "[3, 2]\n"
     ]
    }
   ],
   "source": [
    "#sort desc\n",
    "a.sort(reverse=\"True\")\n",
    "print(a)"
   ]
  },
  {
   "cell_type": "code",
   "execution_count": 21,
   "id": "3cd5d350-8f5a-4948-8b58-a9275fffd1e8",
   "metadata": {},
   "outputs": [
    {
     "name": "stdout",
     "output_type": "stream",
     "text": [
      "2\n"
     ]
    }
   ],
   "source": [
    "#len() size of list\n",
    "print(len(a))"
   ]
  },
  {
   "cell_type": "code",
   "execution_count": 22,
   "id": "5fcf9adf-be32-4239-8db9-0193ba0dc406",
   "metadata": {},
   "outputs": [
    {
     "name": "stdin",
     "output_type": "stream",
     "text": [
      "Enter a element: 7\n",
      "Enter a element: 8\n",
      "Enter a element: 9\n",
      "Enter a element: 5\n",
      "Enter a element: 3\n"
     ]
    },
    {
     "name": "stdout",
     "output_type": "stream",
     "text": [
      "[7, 8, 9, 5, 3]\n"
     ]
    }
   ],
   "source": [
    "# 1: Create an empty list and take 5 numbers as input from the user. Append each number to the list and display the final list.\n",
    "a = []\n",
    "for i in range(1,6):\n",
    "    b = int(input(\"Enter a element:\"))\n",
    "    a.append(b)\n",
    "print(a)"
   ]
  },
  {
   "cell_type": "code",
   "execution_count": 23,
   "id": "d0580eb5-255c-4642-8709-73347e07ec2b",
   "metadata": {},
   "outputs": [
    {
     "name": "stdout",
     "output_type": "stream",
     "text": [
      "[1, 2, 3, 4, 5, 6]\n"
     ]
    }
   ],
   "source": [
    "# 2 :Create two lists: list1 = [1, 2, 3] and list2 = [4, 5, 6]. Extend list1 using list2 and print the updated list.\n",
    "list1 = [1, 2, 3]\n",
    "list2 = [4, 5, 6]\n",
    "list1.extend(list2)\n",
    "print(list1)"
   ]
  },
  {
   "cell_type": "code",
   "execution_count": 24,
   "id": "41214e39-7ca0-4cbf-b205-5d039c104ff7",
   "metadata": {},
   "outputs": [
    {
     "name": "stdout",
     "output_type": "stream",
     "text": [
      "[10, 20, 25, 30, 40]\n"
     ]
    }
   ],
   "source": [
    "# 3: Insert the value 25 at index 2 in the list: l = [10, 20, 30, 40].\n",
    "l = [10, 20, 30, 40]\n",
    "l.insert(2,25)\n",
    "print(l)"
   ]
  },
  {
   "cell_type": "code",
   "execution_count": 25,
   "id": "0e98b93a-621b-4dec-8738-9ff9bda675ab",
   "metadata": {},
   "outputs": [
    {
     "name": "stdout",
     "output_type": "stream",
     "text": [
      "[10, 30, 20, 40]\n"
     ]
    }
   ],
   "source": [
    "# 4: Remove the first occurrence of the value 20 from the list: l = [10, 20, 30, 20, 40].\n",
    "l = [10, 20, 30, 20, 40]\n",
    "l.remove(20)\n",
    "print(l)"
   ]
  },
  {
   "cell_type": "code",
   "execution_count": 26,
   "id": "511077d8-0d11-49da-bd2c-51924b6d6cf6",
   "metadata": {},
   "outputs": [
    {
     "name": "stdout",
     "output_type": "stream",
     "text": [
      "5\n",
      "[1, 2, 3, 4]\n"
     ]
    }
   ],
   "source": [
    "# 5: Pop the last element from the list [1, 2, 3, 4, 5] and display both the popped item and the updated list.\n",
    "list = [1, 2, 3, 4, 5]\n",
    "print(list.pop())\n",
    "print(list)"
   ]
  },
  {
   "cell_type": "code",
   "execution_count": 27,
   "id": "7db871bf-f807-4d83-98c0-cff80501cacf",
   "metadata": {},
   "outputs": [
    {
     "name": "stdout",
     "output_type": "stream",
     "text": [
      "2\n"
     ]
    }
   ],
   "source": [
    "# 6: Find and print the index of the element 15 in the list [5, 10, 15, 20, 25].\n",
    "list = [5, 10, 15, 20, 25]\n",
    "print(list.index(15))"
   ]
  },
  {
   "cell_type": "code",
   "execution_count": 28,
   "id": "e97f8fd1-f309-481e-ac4a-e237942cb878",
   "metadata": {},
   "outputs": [
    {
     "data": {
      "text/plain": [
       "4"
      ]
     },
     "execution_count": 28,
     "metadata": {},
     "output_type": "execute_result"
    }
   ],
   "source": [
    "# 7: Count how many times the number 2 appears in the list [1, 2, 2, 3, 2, 4, 2].\n",
    "list = [1, 2, 2, 3, 2, 4, 2]\n",
    "list.count(2)"
   ]
  },
  {
   "cell_type": "code",
   "execution_count": 29,
   "id": "0c26c80e-b52a-45fb-a975-c0714ad3be97",
   "metadata": {},
   "outputs": [
    {
     "name": "stdout",
     "output_type": "stream",
     "text": [
      "[3, 5, 7, 10]\n",
      "[10, 7, 5, 3]\n"
     ]
    }
   ],
   "source": [
    "# 8: Sort the list [10, 5, 7, 3] in both ascending and descending order.\n",
    "list = [10, 5, 7, 3]\n",
    "list.sort()\n",
    "print(list)\n",
    "list.sort(reverse=\"True\")\n",
    "print(list)"
   ]
  },
  {
   "cell_type": "code",
   "execution_count": 30,
   "id": "333cfd5e-d46c-481b-a8cb-637a121b9b36",
   "metadata": {},
   "outputs": [
    {
     "name": "stdout",
     "output_type": "stream",
     "text": [
      "[5, 4, 3, 2, 1]\n"
     ]
    }
   ],
   "source": [
    "# 9: Reverse the list [1, 2, 3, 4, 5] using the reverse() method.\n",
    "list4 = [1, 2, 3, 4, 5]\n",
    "list4.reverse()\n",
    "print(list4)"
   ]
  },
  {
   "cell_type": "code",
   "execution_count": 31,
   "id": "0baddaf7-2467-4e18-8020-f38c094e6f66",
   "metadata": {},
   "outputs": [
    {
     "name": "stdout",
     "output_type": "stream",
     "text": [
      "[1, 2, 3]\n",
      "original list:  [1, 2, 3]\n",
      "copied list:  [1, 2, 3, 4]\n"
     ]
    }
   ],
   "source": [
    "# 10: Copy the list [1, 2, 3] to a new list, make changes in the copied list, and show that the original list remains unchanged.\n",
    "list5 =  [1, 2, 3]\n",
    "list6 = list5.copy()\n",
    "print(list6)\n",
    "list6.append(4)\n",
    "print(\"original list: \",list5)\n",
    "print(\"copied list: \",list6)"
   ]
  },
  {
   "cell_type": "code",
   "execution_count": 32,
   "id": "c646ed3f-0e96-4bf7-8da0-35115539c2d2",
   "metadata": {},
   "outputs": [
    {
     "name": "stdin",
     "output_type": "stream",
     "text": [
      "Enter a element: 5\n",
      "Enter a element: 6\n",
      "Enter a element: 8\n",
      "Enter a element: 1\n",
      "Enter a element: 6\n",
      "Enter a element: 9\n",
      "Enter a element: 7\n",
      "Enter a element: 6\n",
      "Enter a element: 5\n",
      "Enter a element: 58\n"
     ]
    },
    {
     "name": "stdout",
     "output_type": "stream",
     "text": [
      "[5, 6, 8, 1, 6, 9, 7, 6, 5, 58]\n",
      "Second largest number is: 9\n"
     ]
    }
   ],
   "source": [
    "# 11. Write a program to take a list of 10 integers as input and print the second largest number using list methods.\n",
    "a = []\n",
    "for i in range(1,11):\n",
    "    b = int(input(\"Enter a element:\"))\n",
    "    a.append(b)\n",
    "print(a)\n",
    "a.sort() \n",
    "print(\"Second largest number is:\", a[-2])"
   ]
  },
  {
   "cell_type": "code",
   "execution_count": 33,
   "id": "5294f092-b854-49c5-baa3-308d3c66c425",
   "metadata": {},
   "outputs": [
    {
     "name": "stdout",
     "output_type": "stream",
     "text": [
      "[1, 3, 5]\n"
     ]
    }
   ],
   "source": [
    "# 12. Write a program to remove all even numbers from a list of integers and print the updated list.\n",
    "list = [1,2,3,4,5]\n",
    "for i in list:\n",
    "    if i%2==0:\n",
    "        list.remove(i)\n",
    "print(list)"
   ]
  },
  {
   "cell_type": "code",
   "execution_count": 36,
   "id": "e8252a4c-f2e2-47c9-863d-8ae744ef5308",
   "metadata": {},
   "outputs": [
    {
     "name": "stdin",
     "output_type": "stream",
     "text": [
      "Enter a string janvi\n",
      "Enter a string abc\n"
     ]
    },
    {
     "name": "stdout",
     "output_type": "stream",
     "text": [
      "['janvi', 'abc']\n"
     ]
    }
   ],
   "source": [
    "# 13. Create a list of student names. Ask the user to enter a name, and remove that name from the list if it exists.\n",
    "a = []\n",
    "for i in range(1,3):\n",
    "    b = input(\"Enter a string\")\n",
    "    a.append(b)\n",
    "for i in a:\n",
    "    if i == \"Janvi\":\n",
    "        a.remove(i)\n",
    "print(a)"
   ]
  },
  {
   "cell_type": "code",
   "execution_count": 37,
   "id": "852d9343-b00a-4b4c-b2f3-f837bb079908",
   "metadata": {},
   "outputs": [
    {
     "name": "stdin",
     "output_type": "stream",
     "text": [
      "Enter a number: 1\n"
     ]
    },
    {
     "name": "stdout",
     "output_type": "stream",
     "text": [
      "0\n",
      "[2, 3, 4]\n"
     ]
    }
   ],
   "source": [
    "# 14. Create a list of numbers. Ask the user to enter a number. If it exists, print its index and remove it from the list.\n",
    "a = [1,2,3,4]\n",
    "num = int(input(\"Enter a number:\"))\n",
    "for i in a:\n",
    "    if i == num:\n",
    "        print(a.index(i))\n",
    "        a.remove(i)\n",
    "print(a)"
   ]
  },
  {
   "cell_type": "code",
   "execution_count": 38,
   "id": "572581cf-9935-4c67-b747-0ca11369c218",
   "metadata": {},
   "outputs": [
    {
     "name": "stdin",
     "output_type": "stream",
     "text": [
      "Enter a string janvi\n",
      "Enter a string bata\n",
      "Enter a string khushi\n",
      "Enter a string hjhjhj\n",
      "Enter a string vcfhfjg\n"
     ]
    },
    {
     "name": "stdout",
     "output_type": "stream",
     "text": [
      "['bata', 'hjhjhj', 'janvi', 'khushi', 'vcfhfjg']\n"
     ]
    }
   ],
   "source": [
    "# 15. Create a list of 5 strings. Sort the list in alphabetical order using the sort() method.\n",
    "a = []\n",
    "for i in range(1,6):\n",
    "    b = input(\"Enter a string\")\n",
    "    a.append(b)\n",
    "a.sort()\n",
    "print(a)"
   ]
  },
  {
   "cell_type": "code",
   "execution_count": 39,
   "id": "13a074cc-f72d-4595-af20-f47a790a1ee7",
   "metadata": {},
   "outputs": [
    {
     "name": "stdin",
     "output_type": "stream",
     "text": [
      "Enter a string janvi\n",
      "Enter a string hggfd\n",
      "Enter a string jkklklk\n",
      "Enter a string jhgygjd\n",
      "Enter a string hshdgsgdhs\n"
     ]
    },
    {
     "name": "stdout",
     "output_type": "stream",
     "text": [
      "['janvi', 'hggfd', 'jkklklk', 'jhgygjd', 'hshdgsgdhs']\n"
     ]
    }
   ],
   "source": [
    "# 16. Write a program that counts how many times the word \"python\" appears in a list of words.\n",
    "a = []\n",
    "for i in range(1,6):\n",
    "    b = input(\"Enter a string\")\n",
    "    a.append(b)\n",
    "print(a)\n",
    "if \"python\" in a:\n",
    "    print(a.count(\"python\"))"
   ]
  },
  {
   "cell_type": "code",
   "execution_count": 40,
   "id": "08ca5077-3bb6-4da7-893b-aef6b0f2252e",
   "metadata": {},
   "outputs": [
    {
     "name": "stdout",
     "output_type": "stream",
     "text": [
      "[1, 2, 3]\n",
      "original list:  [1, 2, 3]\n",
      "copied list:  [1, 2, 3, 4]\n"
     ]
    }
   ],
   "source": [
    "# 17. Make a copy of a list using the copy() method. Then modify the copied list and show that the original list is unchanged.\n",
    "list5 =  [1, 2, 3]\n",
    "list6 = list5.copy()\n",
    "print(list6)\n",
    "list6.append(4)\n",
    "print(\"original list: \",list5)\n",
    "print(\"copied list: \",list6)"
   ]
  },
  {
   "cell_type": "code",
   "execution_count": 41,
   "id": "cdaf0a10-16b3-4050-aef9-874a27240daa",
   "metadata": {},
   "outputs": [
    {
     "name": "stdout",
     "output_type": "stream",
     "text": [
      "[1, 2, 3, 4, 4, 5, 6, 7]\n"
     ]
    }
   ],
   "source": [
    "# 18. Take a list of 7 numbers. Insert a number at the middle index using the insert() method.\n",
    "list1 = [1,2,3,4,5,6,7]\n",
    "list1.insert(len(list1)//2,4)\n",
    "print(list1)"
   ]
  },
  {
   "cell_type": "code",
   "execution_count": 42,
   "id": "6c962908-4abe-483c-a2d9-a5568c78a8d6",
   "metadata": {},
   "outputs": [
    {
     "name": "stdout",
     "output_type": "stream",
     "text": [
      "5\n",
      "4\n",
      "3\n",
      "2\n",
      "1\n",
      "[]\n"
     ]
    }
   ],
   "source": [
    "# 19. Create a list and use pop() to remove elements one by one until the list becomes empty. Print each popped element.\n",
    "list_2 =[1,2,3,4,5]\n",
    "while(list_2):\n",
    "    print(list_2.pop())\n",
    "print(list_2)"
   ]
  },
  {
   "cell_type": "code",
   "execution_count": 43,
   "id": "5292eff4-a432-4b74-830e-5a3719bf16f1",
   "metadata": {},
   "outputs": [
    {
     "name": "stdout",
     "output_type": "stream",
     "text": [
      "1\n",
      "2\n",
      "3\n"
     ]
    }
   ],
   "source": [
    "# 20. Create a list of numbers and display only the unique elements using count() method logic (no set used).\n",
    "list_first = [1,2,3,4,4,5,5,5]\n",
    "for i in list_first:\n",
    "    if list_first.count(i)==1:\n",
    "        print(i)"
   ]
  },
  {
   "cell_type": "code",
   "execution_count": 44,
   "id": "cdc3b7e7-1ca8-427e-b0f4-a0239b0f0cf9",
   "metadata": {},
   "outputs": [
    {
     "name": "stdout",
     "output_type": "stream",
     "text": [
      "2\n",
      "1\n",
      "(1, 2, 2, 3, 4, 5)\n"
     ]
    }
   ],
   "source": [
    "#tuple\n",
    "#ordered\n",
    "#immutable\n",
    "#indexed\n",
    "t = (1,2,2,3,4,5)\n",
    "#count()\n",
    "print(t.count(2))\n",
    "#index()\n",
    "print(t.index(2))\n",
    "print(t)"
   ]
  },
  {
   "cell_type": "code",
   "execution_count": 45,
   "id": "5c824fcf-5af9-4d3f-a0a9-c24617ae7a9b",
   "metadata": {},
   "outputs": [
    {
     "name": "stdout",
     "output_type": "stream",
     "text": [
      "()\n",
      "1\n",
      "(1,)\n"
     ]
    }
   ],
   "source": [
    "#Creating a empty list\n",
    "T = tuple() \n",
    "print(T)\n",
    "\n",
    "#Create a single element tuple\n",
    "T1 = (1) # here 1 was treated as an integer expression, hence t stroes an integer 1, not a tuple \n",
    "print(T1)\n",
    "\n",
    "T2 = (1,) # Now T2 stroes a tuple, not integer\n",
    "print(T2)"
   ]
  },
  {
   "cell_type": "code",
   "execution_count": 46,
   "id": "30449e8a-f061-4ed1-9d13-4ceeb027f839",
   "metadata": {},
   "outputs": [
    {
     "name": "stdout",
     "output_type": "stream",
     "text": [
      "('H', 'e', 'l', 'l', 'o')\n",
      "('H', 'e', 'l', 'l', 'o')\n"
     ]
    }
   ],
   "source": [
    "#Creating tuple from a string\n",
    "T1 = tuple('Hello')\n",
    "print(T1)\n",
    "#Creating tuple from a list\n",
    "L = ['H', 'e', 'l', 'l', 'o']\n",
    "T2 = tuple(L)\n",
    "print(T2)"
   ]
  },
  {
   "cell_type": "code",
   "execution_count": 47,
   "id": "ff8f509c-3a0e-4eb3-a0fe-0796dff764ef",
   "metadata": {},
   "outputs": [
    {
     "name": "stdin",
     "output_type": "stream",
     "text": [
      "Enter Tuple Elements: j\n"
     ]
    },
    {
     "name": "stdout",
     "output_type": "stream",
     "text": [
      "('j',)\n"
     ]
    }
   ],
   "source": [
    "#creating tuple from keyborad input\n",
    "Tuple = tuple(input(\"Enter Tuple Elements:\"))\n",
    "print(Tuple)"
   ]
  },
  {
   "cell_type": "code",
   "execution_count": 48,
   "id": "8ebe15b5-129e-45a4-b1c0-b7d001b595c0",
   "metadata": {},
   "outputs": [
    {
     "name": "stdout",
     "output_type": "stream",
     "text": [
      "Maximum Element Of Tuple is:  5\n",
      "Minimum Element Of Tuple is:  1\n",
      "Index of 3 in a tuple is:  2\n",
      "Total occurrences of 5 in a tuple is : 3\n"
     ]
    }
   ],
   "source": [
    "#Tuple Functions\n",
    "#max()\n",
    "Tuple = (1,2,3,4,5,5,5)\n",
    "print(\"Maximum Element Of Tuple is: \",max(Tuple))\n",
    "\n",
    "#min()\n",
    "print(\"Minimum Element Of Tuple is: \",min(Tuple))\n",
    "\n",
    "#index()\n",
    "print(\"Index of 3 in a tuple is: \",Tuple.index(3))\n",
    "\n",
    "#count()\n",
    "print(\"Total occurrences of 5 in a tuple is :\",Tuple.count(5))"
   ]
  },
  {
   "cell_type": "code",
   "execution_count": 49,
   "id": "1d733c0f-314f-45dc-9181-548b00b814b6",
   "metadata": {},
   "outputs": [
    {
     "name": "stdout",
     "output_type": "stream",
     "text": [
      "(1, 2)\n"
     ]
    }
   ],
   "source": [
    "#tuple() method is actually constructor method that can be used to create tuples from different types of values\n",
    "#example\n",
    "#Creating a tuple from keys of a dictionary\n",
    "t3 = tuple({1:\"One\",2:\"Two\"})\n",
    "print(t3)"
   ]
  },
  {
   "cell_type": "code",
   "execution_count": 50,
   "id": "dc0a0147-59a1-4219-881e-e504a5c1bf69",
   "metadata": {},
   "outputs": [
    {
     "name": "stdout",
     "output_type": "stream",
     "text": [
      "{1, 2, 3, 4, 5}\n"
     ]
    }
   ],
   "source": [
    "#sets\n",
    "#operations\n",
    "#unordered\n",
    "#non indexed\n",
    "#unique elements\n",
    "#mutable\n",
    "\n",
    "s1 = {1,2,3}\n",
    "s2 = {3,4,5}\n",
    "print(s1.union(s2))"
   ]
  },
  {
   "cell_type": "code",
   "execution_count": 51,
   "id": "8a5efb5d-f244-43de-95e0-648af5f5bdfb",
   "metadata": {},
   "outputs": [
    {
     "name": "stdout",
     "output_type": "stream",
     "text": [
      "{9, 10, 12}\n"
     ]
    }
   ],
   "source": [
    "#sets\n",
    "s3 = set([6,7,8])\n",
    "s4 = set([9,10,12])\n",
    "print(s4)"
   ]
  },
  {
   "cell_type": "code",
   "execution_count": 52,
   "id": "484b6dd5-32d3-40be-9520-a5db1651d467",
   "metadata": {},
   "outputs": [
    {
     "name": "stdout",
     "output_type": "stream",
     "text": [
      "{0, 1, 2, 3}\n"
     ]
    }
   ],
   "source": [
    "#add()\n",
    "s1.add(0)\n",
    "print(s1)"
   ]
  },
  {
   "cell_type": "code",
   "execution_count": 53,
   "id": "ff9b3635-a95e-4d75-ab61-dcb2267e8c19",
   "metadata": {},
   "outputs": [
    {
     "name": "stdout",
     "output_type": "stream",
     "text": [
      "3\n",
      "{4, 5}\n"
     ]
    }
   ],
   "source": [
    "#pop()\n",
    "print(s2.pop())\n",
    "print(s2)"
   ]
  },
  {
   "cell_type": "code",
   "execution_count": 54,
   "id": "15bd0b29-0320-4ee9-b32e-0fb09c6da223",
   "metadata": {},
   "outputs": [
    {
     "name": "stdout",
     "output_type": "stream",
     "text": [
      "{2, 55}\n"
     ]
    }
   ],
   "source": [
    "#remove()\n",
    "set1 = {2,3,55}\n",
    "set1.remove(3)\n",
    "print(set1)"
   ]
  },
  {
   "cell_type": "code",
   "execution_count": 55,
   "id": "9be5bbdc-e940-4da8-8857-44b18c3d2ccc",
   "metadata": {},
   "outputs": [
    {
     "name": "stdout",
     "output_type": "stream",
     "text": [
      "set()\n",
      "<class 'set'>\n"
     ]
    }
   ],
   "source": [
    "#clear()\n",
    "set1 = {2,3,55}\n",
    "set1.clear()\n",
    "print(set1)\n",
    "print(type(set1))"
   ]
  },
  {
   "cell_type": "code",
   "execution_count": 56,
   "id": "5d7ae3b8-9198-4404-a025-48d560a6ab5d",
   "metadata": {},
   "outputs": [
    {
     "name": "stdout",
     "output_type": "stream",
     "text": [
      "{3}\n"
     ]
    }
   ],
   "source": [
    "#intersection()\n",
    "s1 = {1,2,3}\n",
    "s2 = {3,4,5}\n",
    "print(s1.intersection(s2))"
   ]
  },
  {
   "cell_type": "code",
   "execution_count": 57,
   "id": "9f2fca06-9620-4c60-a436-1bb4f78293f7",
   "metadata": {},
   "outputs": [
    {
     "name": "stdout",
     "output_type": "stream",
     "text": [
      "{1, 2, 3, 4}\n"
     ]
    }
   ],
   "source": [
    "#update(ele)\n",
    "s1 = {1,2,3}\n",
    "s1.update([4])\n",
    "print(s1)"
   ]
  },
  {
   "cell_type": "code",
   "execution_count": 58,
   "id": "f6efeb6e-014b-46be-b96d-b047d87d6ec9",
   "metadata": {},
   "outputs": [
    {
     "name": "stdout",
     "output_type": "stream",
     "text": [
      "{1, 2, 3}\n"
     ]
    }
   ],
   "source": [
    "#sets difference\n",
    "s1 = {1,2,3,3,4}\n",
    "s2 = {4,5,5,6,6,7}\n",
    "print(s1.difference(s2))"
   ]
  },
  {
   "cell_type": "code",
   "execution_count": 59,
   "id": "b4ad7f01-657e-4a2e-9bbf-45b8bbab9277",
   "metadata": {},
   "outputs": [
    {
     "name": "stdout",
     "output_type": "stream",
     "text": [
      "False\n"
     ]
    }
   ],
   "source": [
    "#subset\n",
    "s1 = {1,2,3,3,4}\n",
    "s2 = {4,5,5,6,6,7}\n",
    "print(s1.issubset(s2))"
   ]
  },
  {
   "cell_type": "code",
   "execution_count": 60,
   "id": "d1d68f1b-250b-416a-a517-09ea2a8bd66f",
   "metadata": {},
   "outputs": [
    {
     "data": {
      "text/plain": [
       "False"
      ]
     },
     "execution_count": 60,
     "metadata": {},
     "output_type": "execute_result"
    }
   ],
   "source": [
    "#disjoin\n",
    "s1 = {1,2,3,3,4}\n",
    "s2 = {4,5,5,6,6,7}\n",
    "s1.isdisjoint(s2)"
   ]
  },
  {
   "cell_type": "code",
   "execution_count": 61,
   "id": "2a366abd-625b-46b0-9a64-7dd9939c833b",
   "metadata": {},
   "outputs": [
    {
     "data": {
      "text/plain": [
       "{1, 2, 3, 5, 6, 7}"
      ]
     },
     "execution_count": 61,
     "metadata": {},
     "output_type": "execute_result"
    }
   ],
   "source": [
    "s2.symmetric_difference(s1)"
   ]
  },
  {
   "cell_type": "code",
   "execution_count": 62,
   "id": "67ab55d5-45d1-441d-8d8c-d9355edb4969",
   "metadata": {},
   "outputs": [
    {
     "data": {
      "text/plain": [
       "False"
      ]
     },
     "execution_count": 62,
     "metadata": {},
     "output_type": "execute_result"
    }
   ],
   "source": [
    "s2.issuperset(s1)"
   ]
  },
  {
   "cell_type": "code",
   "execution_count": 63,
   "id": "c6300c8b-c983-4017-b2a1-5b13e8d0afdc",
   "metadata": {},
   "outputs": [
    {
     "name": "stdout",
     "output_type": "stream",
     "text": [
      "{32, 90, 12, 78, 92}\n"
     ]
    }
   ],
   "source": [
    "#update\n",
    "sets = {32,78,90,12}\n",
    "sets.update({92})\n",
    "print(sets)"
   ]
  },
  {
   "cell_type": "code",
   "execution_count": 64,
   "id": "74c0eb58-f757-4af9-a411-beab5203d243",
   "metadata": {},
   "outputs": [
    {
     "name": "stdout",
     "output_type": "stream",
     "text": [
      "{32, 12, 78, 92}\n"
     ]
    }
   ],
   "source": [
    "#discard(elem)\n",
    "sets.discard(90)\n",
    "print(sets)"
   ]
  },
  {
   "cell_type": "code",
   "execution_count": 65,
   "id": "bb18ff2e-8953-4f20-b4c9-f13f08aebce6",
   "metadata": {},
   "outputs": [
    {
     "name": "stdout",
     "output_type": "stream",
     "text": [
      "One\n"
     ]
    }
   ],
   "source": [
    "#dictionary key value pair\n",
    "#unordered\n",
    "#indexed\n",
    "d = {1:\"One\",2:\"Two\",3:\"Three\"}\n",
    "print(d[1])"
   ]
  },
  {
   "cell_type": "code",
   "execution_count": 66,
   "id": "db46d961-09e3-4a58-a30c-71397b61b08f",
   "metadata": {},
   "outputs": [
    {
     "name": "stdout",
     "output_type": "stream",
     "text": [
      "One\n",
      "Two\n",
      "Three\n"
     ]
    }
   ],
   "source": [
    "#access \n",
    "for i in d:\n",
    "    print(d[i])"
   ]
  },
  {
   "cell_type": "code",
   "execution_count": 67,
   "id": "d3e366c3-3270-4597-871a-8eb1ec70eea3",
   "metadata": {},
   "outputs": [
    {
     "data": {
      "text/plain": [
       "{1, 2, 3}"
      ]
     },
     "execution_count": 67,
     "metadata": {},
     "output_type": "execute_result"
    }
   ],
   "source": [
    "#keys fuctions\n",
    "{k for k in d.keys()}"
   ]
  },
  {
   "cell_type": "code",
   "execution_count": 68,
   "id": "246a35bc-2400-421b-89bb-34a0b3f6b9df",
   "metadata": {},
   "outputs": [
    {
     "data": {
      "text/plain": [
       "3"
      ]
     },
     "execution_count": 68,
     "metadata": {},
     "output_type": "execute_result"
    }
   ],
   "source": [
    "#len\n",
    "len(d)"
   ]
  },
  {
   "cell_type": "code",
   "execution_count": 69,
   "id": "273422f2-0a1e-4e45-93d3-a17891878d9d",
   "metadata": {},
   "outputs": [
    {
     "data": {
      "text/plain": [
       "{'One', 'Three', 'Two'}"
      ]
     },
     "execution_count": 69,
     "metadata": {},
     "output_type": "execute_result"
    }
   ],
   "source": [
    "#values fuctions\n",
    "{k for k in d.values()}"
   ]
  },
  {
   "cell_type": "code",
   "execution_count": 70,
   "id": "74371dc9-5ddf-4cb2-8707-049ebcbd6b05",
   "metadata": {},
   "outputs": [
    {
     "name": "stdout",
     "output_type": "stream",
     "text": [
      "{}\n"
     ]
    }
   ],
   "source": [
    "#clear function\n",
    "d = {1:\"One\",2:\"Two\",3:\"Three\"}\n",
    "d.clear()\n",
    "print(d)"
   ]
  },
  {
   "cell_type": "code",
   "execution_count": 71,
   "id": "df2873ee-66c5-4778-ae5d-02a333958e59",
   "metadata": {},
   "outputs": [
    {
     "name": "stdout",
     "output_type": "stream",
     "text": [
      "One\n"
     ]
    }
   ],
   "source": [
    "#get()\n",
    "d = {1:\"One\",2:\"Two\",3:\"Three\"}\n",
    "print(d.get(1))"
   ]
  },
  {
   "cell_type": "code",
   "execution_count": 72,
   "id": "40329fd6-3660-4fdc-87fb-6f0056129dfb",
   "metadata": {},
   "outputs": [
    {
     "name": "stdout",
     "output_type": "stream",
     "text": [
      "{1: 'One', 2: 'Two', 3: 'Third'}\n"
     ]
    }
   ],
   "source": [
    "#update()\n",
    "d = {1:\"One\",2:\"Two\",3:\"Three\"}\n",
    "d.update({3:\"Third\"})\n",
    "print(d)"
   ]
  },
  {
   "cell_type": "code",
   "execution_count": 73,
   "id": "e40691ad-205d-4c85-b9c9-b68898b0bdfc",
   "metadata": {},
   "outputs": [
    {
     "name": "stdout",
     "output_type": "stream",
     "text": [
      "Rock the World.\n"
     ]
    }
   ],
   "source": [
    "#String Functions\n",
    "#String declaration \n",
    "str = \"Rock the World.\"\n",
    "print(str)"
   ]
  },
  {
   "cell_type": "code",
   "execution_count": 74,
   "id": "17dd4401-25fc-4a5b-9235-64bbe8704e3c",
   "metadata": {},
   "outputs": [
    {
     "name": "stdout",
     "output_type": "stream",
     "text": [
      "17\n"
     ]
    }
   ],
   "source": [
    "#Find the size of string\n",
    "str1 = \"End Of the world.\"\n",
    "print(len(str1))"
   ]
  },
  {
   "cell_type": "code",
   "execution_count": 76,
   "id": "58d574e6-7ef0-44db-bc12-64017fc700d0",
   "metadata": {},
   "outputs": [
    {
     "name": "stdout",
     "output_type": "stream",
     "text": [
      "I love kjb\n"
     ]
    }
   ],
   "source": [
    "#String the copy of the string with first character capitalized \n",
    "#capitalize()\n",
    "print('i love KJB'.capitalize())"
   ]
  },
  {
   "cell_type": "code",
   "execution_count": 78,
   "id": "9cd62648-54b7-435e-abb5-8772cc089bdd",
   "metadata": {},
   "outputs": [
    {
     "name": "stdout",
     "output_type": "stream",
     "text": [
      "ISALNUM....\n",
      "True\n",
      "True\n",
      "False\n",
      "ISALPHA....\n",
      "True\n",
      "False\n",
      "ISDIGIT....\n",
      "True\n",
      "False\n",
      "ISSPACE....\n",
      "True\n",
      "False\n"
     ]
    }
   ],
   "source": [
    "#isalnum() return True if the character in the <string> are alphanumeric (alphabet or number)\n",
    "#isalpha() return True if all character in the <string> are alphabaetic\n",
    "#isdigit() return True if all the character in the <string> are digit\n",
    "#isspace return True if there are only whitespce character in string\n",
    "str1 = \"abc123\"\n",
    "str2 = \"abc\"\n",
    "str3 = \"123\"\n",
    "str4 = \" \"\n",
    "print(\"ISALNUM....\")\n",
    "print(str1.isalnum())\n",
    "print(str2.isalnum())\n",
    "print(str4.isalnum())\n",
    "\n",
    "print(\"ISALPHA....\")\n",
    "print(str2.isalpha())\n",
    "print(str3.isalpha())\n",
    "\n",
    "print(\"ISDIGIT....\")\n",
    "print(str3.isdigit())\n",
    "print(str2.isdigit())\n",
    "\n",
    "\n",
    "print(\"ISSPACE....\")\n",
    "print(str4.isspace())\n",
    "print(str2.isspace())"
   ]
  },
  {
   "cell_type": "code",
   "execution_count": 79,
   "id": "9d926c8a-eba4-43c7-b183-6d83d26aa577",
   "metadata": {},
   "outputs": [
    {
     "name": "stdout",
     "output_type": "stream",
     "text": [
      "ISLOWER...\n",
      "True\n",
      "False\n",
      "ISUPPER...\n",
      "True\n",
      "False\n",
      "ISTITLE...\n",
      "True\n",
      "False\n"
     ]
    }
   ],
   "source": [
    "#islower() return True if all caesd characters in the <String> are lowercase\n",
    "#isupper() return True if all caesd characters in the <String> are uppercase\n",
    "#istitle() return true if the most first letter of an string is a capitalized eg:\"My programming language is java\"\n",
    "string1 = \"hello\"\n",
    "string2 = \"THERE\"\n",
    "string3 =  \"Goldy\"\n",
    "\n",
    "print(\"ISLOWER...\")\n",
    "print(string1.islower())\n",
    "print(string3.islower())\n",
    "\n",
    "print(\"ISUPPER...\")\n",
    "print(string2.isupper())\n",
    "print(string3.isupper())\n",
    "\n",
    "print(\"ISTITLE...\")\n",
    "print(string3.istitle())\n",
    "print(string1.istitle())"
   ]
  },
  {
   "cell_type": "code",
   "execution_count": 80,
   "id": "210da611-bf52-461f-91a2-0cd01972b4cf",
   "metadata": {},
   "outputs": [
    {
     "name": "stdout",
     "output_type": "stream",
     "text": [
      "LOWER...\n",
      "there\n",
      "UPPER...\n",
      "HELLO\n",
      "TITLE...\n",
      "Hello\n",
      "There\n"
     ]
    }
   ],
   "source": [
    "#str.lower() : return a copy of the string <str> converted to lowercase\n",
    "#str.upper(): return a copy of the string <str> converted to lowercase\n",
    "#str.title(): return a titlecaed version of the string where words start with an uppercae character and the remaining are lowercase\n",
    "\n",
    "string1 = \"hello\"\n",
    "string2 = \"THERE\"\n",
    "string3 =  \"Goldy\"\n",
    "\n",
    "print(\"LOWER...\")\n",
    "print(string2.lower())\n",
    "\n",
    "print(\"UPPER...\")\n",
    "print(string1.upper())\n",
    "\n",
    "print(\"TITLE...\")\n",
    "print(string1.title())\n",
    "print(string2.title())"
   ]
  },
  {
   "cell_type": "code",
   "execution_count": 81,
   "id": "9c979ad4-ae0c-42ef-a0f4-18aa69d0c1cc",
   "metadata": {},
   "outputs": [
    {
     "name": "stdout",
     "output_type": "stream",
     "text": [
      "True\n",
      "True\n",
      "True\n",
      "False\n"
     ]
    }
   ],
   "source": [
    "#<str>.startswith(prefix,start,end) returns True if string <str> starts  with the argument prefix, otherwise returns False\n",
    "#<str>.endswith(suffix,start,end) returns True if string <str> ends with the argument suffix, otherwise returns False\n",
    "\n",
    "str = \"I LIKE CS\"\n",
    "print(str.startswith(\"I\"))\n",
    "print(str.endswith(\"CS\"))\n",
    "print(str.startswith(\"I\",0))\n",
    "print(str.endswith(\"CS\",4,6))"
   ]
  },
  {
   "cell_type": "code",
   "execution_count": 82,
   "id": "e33fd5e2-090a-49d1-8dcb-fefd308a4879",
   "metadata": {},
   "outputs": [
    {
     "name": "stdout",
     "output_type": "stream",
     "text": [
      "hELLO wORLD\n",
      "Hello World\n"
     ]
    }
   ],
   "source": [
    "#<str>.swapcase()retuns a copy of the string <str> with uppercase characters converted to lower case and viva versa.\n",
    "str = \"Hello World\"\n",
    "print(str.swapcase())\n",
    "print(str.swapcase().swapcase())"
   ]
  },
  {
   "cell_type": "code",
   "execution_count": 83,
   "id": "71ab9094-99cc-44fc-b0ae-277b637c2c35",
   "metadata": {},
   "outputs": [
    {
     "name": "stdout",
     "output_type": "stream",
     "text": [
      "2\n",
      "1\n",
      "0\n"
     ]
    }
   ],
   "source": [
    "#str.count(sub[,start[,end]]) returns the no. of over-overlapping occurrance of substring sub in the range of [start,end]\n",
    "num = \"To Be or Not to Be\"\n",
    "print(num.count(\"Be\"))\n",
    "print(num.count(\"Be\",7))\n",
    "print(num.count(\"Be\",7,11))"
   ]
  },
  {
   "cell_type": "code",
   "execution_count": 84,
   "id": "69744416-4c68-455b-b240-df19166da861",
   "metadata": {},
   "outputs": [
    {
     "name": "stdout",
     "output_type": "stream",
     "text": [
      "re\n",
      "Th\n"
     ]
    }
   ],
   "source": [
    "#<str>.lstrip([chars]) returns a copy of the string <str> with leading character removed.\n",
    "#<str>.rstrip([chars]) returns a copy of the string <str> with Trailing character removed.\n",
    "str = \"There\"\n",
    "print(str.lstrip('The'))\n",
    "print(str.rstrip('re'))"
   ]
  }
 ],
 "metadata": {
  "kernelspec": {
   "display_name": "Python [conda env:base]",
   "language": "python",
   "name": "conda-base-py"
  },
  "language_info": {
   "codemirror_mode": {
    "name": "ipython",
    "version": 3
   },
   "file_extension": ".py",
   "mimetype": "text/x-python",
   "name": "python",
   "nbconvert_exporter": "python",
   "pygments_lexer": "ipython3",
   "version": "3.13.5"
  }
 },
 "nbformat": 4,
 "nbformat_minor": 5
}
